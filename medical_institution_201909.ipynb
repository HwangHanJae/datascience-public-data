{
  "nbformat": 4,
  "nbformat_minor": 0,
  "metadata": {
    "colab": {
      "name": "medical_institution_201909.ipynb",
      "provenance": [],
      "collapsed_sections": [],
      "toc_visible": true,
      "mount_file_id": "1uQxG9YewekZ2su4avRxQzplcIhDIiVSZ",
      "authorship_tag": "ABX9TyPEcrnvi1/Svpu0MSfbT8CP"
    },
    "kernelspec": {
      "name": "python3",
      "display_name": "Python 3"
    },
    "language_info": {
      "name": "python"
    }
  },
  "cells": [
    {
      "cell_type": "markdown",
      "metadata": {
        "id": "Shv2RznBcZ_8"
      },
      "source": [
        "####구글 드라이브에 있는 <strong>소상공인시장진흥공단_상가업소정보_의료기관_201909.csv 파일</strong> 가져오기"
      ]
    },
    {
      "cell_type": "code",
      "metadata": {
        "colab": {
          "base_uri": "https://localhost:8080/"
        },
        "id": "uJGMjYYGcFtJ",
        "outputId": "95229a57-33da-4921-a56d-d9569df261d6"
      },
      "source": [
        "#구글 드라이브 마운트를 위하여 drive 임포트\n",
        "# 1. 왼쪽의 4개의 탭에서 파일탭의 드라이브 마운트를 클릭하여 마운트\n",
        "#-----------------------------------------------------------------------------\n",
        "from google.colab import drive\n",
        "# 다른 방법\n",
        "# 1. 아래의 코드\n",
        "drive.mount('/content/drive')\n",
        "# 2. 나오는 링크에 들어가 인증키를 복사\n",
        "# 3. 인증키를 붙여넣기\n",
        "# 4. 왼쪽 탭 확인"
      ],
      "execution_count": null,
      "outputs": [
        {
          "output_type": "stream",
          "text": [
            "Drive already mounted at /content/drive; to attempt to forcibly remount, call drive.mount(\"/content/drive\", force_remount=True).\n"
          ],
          "name": "stdout"
        }
      ]
    },
    {
      "cell_type": "markdown",
      "metadata": {
        "id": "hz2JTNi_G9hH"
      },
      "source": [
        "###그래프 및 한글 폰트 기본 설정"
      ]
    },
    {
      "cell_type": "markdown",
      "metadata": {
        "id": "cuYCzVKke5jX"
      },
      "source": [
        "#### 시각화를 위한 폰트 설정"
      ]
    },
    {
      "cell_type": "code",
      "metadata": {
        "id": "JZlSjTDtBG3M"
      },
      "source": [
        "# 기본적용\n",
        "import matplotlib.pyplot as plt\n",
        "import matplotlib as mpl\n",
        "from IPython.display import set_matplotlib_formats\n",
        "#그래프에서 격자로 숫자 범위가 눈에 잘 띄도록 'ggplot' 스타일을 사용\n",
        "plt.style.use('ggplot')\n",
        "# 폰트가 선명하게 보이기 위해\n",
        "set_matplotlib_formats('retina')"
      ],
      "execution_count": 10,
      "outputs": []
    },
    {
      "cell_type": "code",
      "metadata": {
        "id": "oisjorO1BHwS"
      },
      "source": [
        "#그래프에서 마이너스 폰트 깨지는 문제 대한 대처\n",
        "mpl.rcParams['axes.unicode_minus'] = False"
      ],
      "execution_count": 3,
      "outputs": []
    },
    {
      "cell_type": "markdown",
      "metadata": {
        "id": "rxixSIgmBKf_"
      },
      "source": [
        "####한글폰트 설정"
      ]
    },
    {
      "cell_type": "code",
      "metadata": {
        "id": "uqGFfv4XB87T"
      },
      "source": [
        "#맷플롯립 폰트 관련 매니저\n",
        "import matplotlib.font_manager as fm"
      ],
      "execution_count": 12,
      "outputs": []
    },
    {
      "cell_type": "code",
      "metadata": {
        "colab": {
          "base_uri": "https://localhost:8080/"
        },
        "id": "3ZDsN5qgCE8u",
        "outputId": "9cbffe38-1d94-48a2-86fb-1e0a9cd5d8dd"
      },
      "source": [
        "print(\"현재버전 : \",mpl.__version__)     \n",
        "print(\"설정위치 : \",mpl.__file__)        \n",
        "print(\"설정위치 : \", mpl.get_configdir())\n",
        "print(\"캐시위치 : \", mpl.get_cachedir())"
      ],
      "execution_count": 13,
      "outputs": [
        {
          "output_type": "stream",
          "text": [
            "현재버전 :  3.2.2\n",
            "설정위치 :  /usr/local/lib/python3.7/dist-packages/matplotlib/__init__.py\n",
            "설정위치 :  /root/.config/matplotlib\n",
            "캐시위치 :  /root/.cache/matplotlib\n"
          ],
          "name": "stdout"
        }
      ]
    },
    {
      "cell_type": "markdown",
      "metadata": {
        "id": "uh_J9EW6DQs7"
      },
      "source": [
        "####시스템에 설치된 폰트 확인"
      ]
    },
    {
      "cell_type": "code",
      "metadata": {
        "colab": {
          "base_uri": "https://localhost:8080/"
        },
        "id": "emPORq78DOOD",
        "outputId": "cf57ccc3-c452-4f14-d019-631a898e52bc"
      },
      "source": [
        "sys_font=fm.findSystemFonts()\n",
        "print(\"sys_font number : \",len(sys_font))\n",
        "\n",
        "nanum_font = [f for f in sys_font if \"Nanum\" in f]\n",
        "print(\"nanum_font number : \",len(nanum_font))\n",
        "\n",
        "print(\"시스템에 설치된 폰트 경로 : \",sys_font)"
      ],
      "execution_count": 6,
      "outputs": [
        {
          "output_type": "stream",
          "text": [
            "sys_font number :  48\n",
            "nanum_font number :  31\n",
            "시스템에 설치된 폰트 경로 :  ['/usr/share/fonts/truetype/nanum/NanumBrush.ttf', '/usr/share/fonts/truetype/nanum/NanumBarunpenB.ttf', '/usr/share/fonts/truetype/liberation/LiberationSansNarrow-BoldItalic.ttf', '/usr/share/fonts/truetype/liberation/LiberationSans-Bold.ttf', '/usr/share/fonts/truetype/nanum/NanumMyeongjo.ttf', '/usr/share/fonts/truetype/nanum/NanumGothicEcoExtraBold.ttf', '/usr/share/fonts/truetype/liberation/LiberationSans-BoldItalic.ttf', '/usr/share/fonts/truetype/nanum/NanumMyeongjoEcoBold.ttf', '/usr/share/fonts/truetype/liberation/LiberationSansNarrow-Italic.ttf', '/usr/share/fonts/truetype/humor-sans/Humor-Sans.ttf', '/usr/share/fonts/truetype/nanum/NanumGothic.ttf', '/usr/share/fonts/truetype/nanum/NanumSquareRoundB.ttf', '/usr/share/fonts/truetype/nanum/NanumBarunpenR.ttf', '/usr/share/fonts/truetype/nanum/NanumGothicEco.ttf', '/usr/share/fonts/truetype/nanum/NanumSquareRoundEB.ttf', '/usr/share/fonts/truetype/nanum/NanumGothicCoding-Bold.ttf', '/usr/share/fonts/truetype/nanum/NanumSquareB.ttf', '/usr/share/fonts/truetype/nanum/NanumBarunGothic.ttf', '/usr/share/fonts/truetype/nanum/NanumGothicExtraBold.ttf', '/usr/share/fonts/truetype/liberation/LiberationSerif-BoldItalic.ttf', '/usr/share/fonts/truetype/nanum/NanumGothicBold.ttf', '/usr/share/fonts/truetype/liberation/LiberationSansNarrow-Regular.ttf', '/usr/share/fonts/truetype/nanum/NanumPen.ttf', '/usr/share/fonts/truetype/liberation/LiberationSerif-Italic.ttf', '/usr/share/fonts/truetype/nanum/NanumGothicCoding.ttf', '/usr/share/fonts/truetype/liberation/LiberationSerif-Bold.ttf', '/usr/share/fonts/truetype/nanum/NanumMyeongjoEcoExtraBold.ttf', '/usr/share/fonts/truetype/liberation/LiberationSansNarrow-Bold.ttf', '/usr/share/fonts/truetype/nanum/NanumGothicEcoBold.ttf', '/usr/share/fonts/truetype/nanum/NanumMyeongjoBold.ttf', '/usr/share/fonts/truetype/nanum/NanumSquareEB.ttf', '/usr/share/fonts/truetype/nanum/NanumMyeongjoExtraBold.ttf', '/usr/share/fonts/truetype/liberation/LiberationSerif-Regular.ttf', '/usr/share/fonts/truetype/nanum/NanumBarunGothicLight.ttf', '/usr/share/fonts/truetype/nanum/NanumMyeongjoEco.ttf', '/usr/share/fonts/truetype/nanum/NanumSquareRoundR.ttf', '/usr/share/fonts/truetype/nanum/NanumBarunGothicUltraLight.ttf', '/usr/share/fonts/truetype/nanum/NanumSquareRoundL.ttf', '/usr/share/fonts/truetype/liberation/LiberationSans-Regular.ttf', '/usr/share/fonts/truetype/liberation/LiberationMono-Regular.ttf', '/usr/share/fonts/truetype/nanum/NanumSquareR.ttf', '/usr/share/fonts/truetype/liberation/LiberationMono-Bold.ttf', '/usr/share/fonts/truetype/liberation/LiberationSans-Italic.ttf', '/usr/share/fonts/truetype/liberation/LiberationMono-BoldItalic.ttf', '/usr/share/fonts/truetype/nanum/NanumGothicLight.ttf', '/usr/share/fonts/truetype/nanum/NanumBarunGothicBold.ttf', '/usr/share/fonts/truetype/nanum/NanumSquareL.ttf', '/usr/share/fonts/truetype/liberation/LiberationMono-Italic.ttf']\n"
          ],
          "name": "stdout"
        }
      ]
    },
    {
      "cell_type": "code",
      "metadata": {
        "colab": {
          "base_uri": "https://localhost:8080/"
        },
        "id": "BBiA5SYaCpQ2",
        "outputId": "ca3ea077-f88a-4fc6-ccb3-003eb6011175"
      },
      "source": [
        "#나눔고딕 폰트 인스톨\n",
        "!apt-get update -qq\n",
        "!apt-get install fonts-nanum* -qq"
      ],
      "execution_count": 20,
      "outputs": [
        {
          "output_type": "stream",
          "text": [
            "Selecting previously unselected package fonts-nanum.\n",
            "(Reading database ... 160706 files and directories currently installed.)\n",
            "Preparing to unpack .../fonts-nanum_20170925-1_all.deb ...\n",
            "Unpacking fonts-nanum (20170925-1) ...\n",
            "Selecting previously unselected package fonts-nanum-eco.\n",
            "Preparing to unpack .../fonts-nanum-eco_1.000-6_all.deb ...\n",
            "Unpacking fonts-nanum-eco (1.000-6) ...\n",
            "Selecting previously unselected package fonts-nanum-extra.\n",
            "Preparing to unpack .../fonts-nanum-extra_20170925-1_all.deb ...\n",
            "Unpacking fonts-nanum-extra (20170925-1) ...\n",
            "Selecting previously unselected package fonts-nanum-coding.\n",
            "Preparing to unpack .../fonts-nanum-coding_2.5-1_all.deb ...\n",
            "Unpacking fonts-nanum-coding (2.5-1) ...\n",
            "Setting up fonts-nanum-extra (20170925-1) ...\n",
            "Setting up fonts-nanum (20170925-1) ...\n",
            "Setting up fonts-nanum-coding (2.5-1) ...\n",
            "Setting up fonts-nanum-eco (1.000-6) ...\n",
            "Processing triggers for fontconfig (2.12.6-0ubuntu2) ...\n"
          ],
          "name": "stdout"
        }
      ]
    },
    {
      "cell_type": "markdown",
      "metadata": {
        "id": "1mVa8GizE61H"
      },
      "source": [
        "####폰트를 다운로드한 후에 폰트 매니저 리빌딩을 해주고 반드시 런타임 다시시작을 해주어야 함"
      ]
    },
    {
      "cell_type": "code",
      "metadata": {
        "id": "7kCbWyI5EuSY"
      },
      "source": [
        "fm._rebuild()"
      ],
      "execution_count": 23,
      "outputs": []
    },
    {
      "cell_type": "code",
      "metadata": {
        "colab": {
          "base_uri": "https://localhost:8080/"
        },
        "id": "AcBlTJUEEJ-T",
        "outputId": "e0dee3b8-7c6a-42c1-dfcb-02238fba9ac7"
      },
      "source": [
        "nanum_font = [f for f in sys_font if \"Nanum\" in f]\n",
        "print(\"nanum_font number : \",len(nanum_font))\n",
        "\n",
        "nanum_font"
      ],
      "execution_count": 8,
      "outputs": [
        {
          "output_type": "stream",
          "text": [
            "nanum_font number :  31\n"
          ],
          "name": "stdout"
        },
        {
          "output_type": "execute_result",
          "data": {
            "text/plain": [
              "['/usr/share/fonts/truetype/nanum/NanumBrush.ttf',\n",
              " '/usr/share/fonts/truetype/nanum/NanumBarunpenB.ttf',\n",
              " '/usr/share/fonts/truetype/nanum/NanumMyeongjo.ttf',\n",
              " '/usr/share/fonts/truetype/nanum/NanumGothicEcoExtraBold.ttf',\n",
              " '/usr/share/fonts/truetype/nanum/NanumMyeongjoEcoBold.ttf',\n",
              " '/usr/share/fonts/truetype/nanum/NanumGothic.ttf',\n",
              " '/usr/share/fonts/truetype/nanum/NanumSquareRoundB.ttf',\n",
              " '/usr/share/fonts/truetype/nanum/NanumBarunpenR.ttf',\n",
              " '/usr/share/fonts/truetype/nanum/NanumGothicEco.ttf',\n",
              " '/usr/share/fonts/truetype/nanum/NanumSquareRoundEB.ttf',\n",
              " '/usr/share/fonts/truetype/nanum/NanumGothicCoding-Bold.ttf',\n",
              " '/usr/share/fonts/truetype/nanum/NanumSquareB.ttf',\n",
              " '/usr/share/fonts/truetype/nanum/NanumBarunGothic.ttf',\n",
              " '/usr/share/fonts/truetype/nanum/NanumGothicExtraBold.ttf',\n",
              " '/usr/share/fonts/truetype/nanum/NanumGothicBold.ttf',\n",
              " '/usr/share/fonts/truetype/nanum/NanumPen.ttf',\n",
              " '/usr/share/fonts/truetype/nanum/NanumGothicCoding.ttf',\n",
              " '/usr/share/fonts/truetype/nanum/NanumMyeongjoEcoExtraBold.ttf',\n",
              " '/usr/share/fonts/truetype/nanum/NanumGothicEcoBold.ttf',\n",
              " '/usr/share/fonts/truetype/nanum/NanumMyeongjoBold.ttf',\n",
              " '/usr/share/fonts/truetype/nanum/NanumSquareEB.ttf',\n",
              " '/usr/share/fonts/truetype/nanum/NanumMyeongjoExtraBold.ttf',\n",
              " '/usr/share/fonts/truetype/nanum/NanumBarunGothicLight.ttf',\n",
              " '/usr/share/fonts/truetype/nanum/NanumMyeongjoEco.ttf',\n",
              " '/usr/share/fonts/truetype/nanum/NanumSquareRoundR.ttf',\n",
              " '/usr/share/fonts/truetype/nanum/NanumBarunGothicUltraLight.ttf',\n",
              " '/usr/share/fonts/truetype/nanum/NanumSquareRoundL.ttf',\n",
              " '/usr/share/fonts/truetype/nanum/NanumSquareR.ttf',\n",
              " '/usr/share/fonts/truetype/nanum/NanumGothicLight.ttf',\n",
              " '/usr/share/fonts/truetype/nanum/NanumBarunGothicBold.ttf',\n",
              " '/usr/share/fonts/truetype/nanum/NanumSquareL.ttf']"
            ]
          },
          "metadata": {
            "tags": []
          },
          "execution_count": 8
        }
      ]
    },
    {
      "cell_type": "markdown",
      "metadata": {
        "id": "98X6oCQEFQvE"
      },
      "source": [
        "####현재 설정된 파이썬 버전과 폰트 확인\n"
      ]
    },
    {
      "cell_type": "code",
      "metadata": {
        "colab": {
          "base_uri": "https://localhost:8080/"
        },
        "id": "bOt1yJ4ZFW5y",
        "outputId": "5f58bd0a-c60d-4eb8-b94c-b1036f069fd1"
      },
      "source": [
        "!python --version\n",
        "print(\"현재 설정 폰트\",plt.rcParams['font.family'])"
      ],
      "execution_count": 15,
      "outputs": [
        {
          "output_type": "stream",
          "text": [
            "Python 3.7.10\n",
            "현재 설정 폰트 ['sans-serif']\n"
          ],
          "name": "stdout"
        }
      ]
    },
    {
      "cell_type": "markdown",
      "metadata": {
        "id": "Uy78uRctF6At"
      },
      "source": [
        "####폰트 지정"
      ]
    },
    {
      "cell_type": "code",
      "metadata": {
        "id": "uaJ9d1qje7pX",
        "colab": {
          "base_uri": "https://localhost:8080/"
        },
        "outputId": "3e570dac-f9c7-4e20-f360-01bfb8c3be8d"
      },
      "source": [
        "#한글폰트경로(나눔바른고딕)\n",
        "fontpath = '/usr/share/fonts/truetype/nanum/NanumBarunGothic.ttf'\n",
        "\n",
        "font_name = fm.FontProperties(fname=fontpath).get_name()\n",
        "print(font_name)\n",
        "# 맷플롯라이브러리에 폰트 설정\n",
        "plt.rc('font', family='NanumBarunGothic') \n",
        "# 진행후에 런타임 다시시작"
      ],
      "execution_count": 16,
      "outputs": [
        {
          "output_type": "stream",
          "text": [
            "NanumBarunGothic\n"
          ],
          "name": "stdout"
        }
      ]
    },
    {
      "cell_type": "markdown",
      "metadata": {
        "id": "nu1iYST2GGA9"
      },
      "source": [
        "####현재설정된 폰트 확인"
      ]
    },
    {
      "cell_type": "code",
      "metadata": {
        "colab": {
          "base_uri": "https://localhost:8080/"
        },
        "id": "IA1pY7W8GDs2",
        "outputId": "ff453639-4fd1-488f-8e22-a113f693f033"
      },
      "source": [
        "print(\"현재 설정 폰트\",plt.rcParams['font.family'])"
      ],
      "execution_count": 17,
      "outputs": [
        {
          "output_type": "stream",
          "text": [
            "현재 설정 폰트 ['NanumBarunGothic']\n"
          ],
          "name": "stdout"
        }
      ]
    },
    {
      "cell_type": "markdown",
      "metadata": {
        "id": "2ssq1Q8uGexp"
      },
      "source": [
        "###분석 시작 지점"
      ]
    },
    {
      "cell_type": "markdown",
      "metadata": {
        "id": "8xJyQL8WG07y"
      },
      "source": [
        "#### 필요한 라이브러리 불러오기"
      ]
    },
    {
      "cell_type": "code",
      "metadata": {
        "id": "0AD06QYwG0er"
      },
      "source": [
        "import pandas as pd\n",
        "import numpy as np\n",
        "import seaborn as sns"
      ],
      "execution_count": 22,
      "outputs": []
    },
    {
      "cell_type": "markdown",
      "metadata": {
        "id": "Ih7cTuRKg2Rq"
      },
      "source": [
        "#### 파일 불러오기"
      ]
    },
    {
      "cell_type": "code",
      "metadata": {
        "id": "sF45socPdM-T"
      },
      "source": [
        "#경로를 변수에 담기\n",
        "path = '/content/drive/MyDrive/Colab Notebooks/DataScience/Data/소상공인시장진흥공단_상가업소정보_의료기관_201909.csv'\n",
        "\n",
        "#경로 설정 및 불러오기\n",
        "#경고 메세지 : low_memory=False를 지정, 해결\n",
        "df = pd.read_csv(path,low_memory=False)"
      ],
      "execution_count": 24,
      "outputs": []
    },
    {
      "cell_type": "markdown",
      "metadata": {
        "id": "o_hj_XHUgwJS"
      },
      "source": [
        "####데이터 미리보기"
      ]
    },
    {
      "cell_type": "markdown",
      "metadata": {
        "id": "c7c75ICZhHeM"
      },
      "source": [
        "#####데이터 크기 확인"
      ]
    },
    {
      "cell_type": "code",
      "metadata": {
        "colab": {
          "base_uri": "https://localhost:8080/"
        },
        "id": "_aGOU_KRdf3a",
        "outputId": "abf0c7f5-329b-4b49-8311-a6a56130760a"
      },
      "source": [
        "df.shape"
      ],
      "execution_count": null,
      "outputs": [
        {
          "output_type": "execute_result",
          "data": {
            "text/plain": [
              "(91335, 39)"
            ]
          },
          "metadata": {
            "tags": []
          },
          "execution_count": 5
        }
      ]
    },
    {
      "cell_type": "markdown",
      "metadata": {
        "id": "3ynUZGEDhKUn"
      },
      "source": [
        "#####데이터 상위 5개 및 하위 5개 확인"
      ]
    },
    {
      "cell_type": "code",
      "metadata": {
        "colab": {
          "base_uri": "https://localhost:8080/",
          "height": 1000
        },
        "id": "aUy1MzRygxZ0",
        "outputId": "a5cfaa21-5ff1-4b78-a8d5-42396abf00f4"
      },
      "source": [
        "df.head()"
      ],
      "execution_count": null,
      "outputs": [
        {
          "output_type": "execute_result",
          "data": {
            "text/html": [
              "<div>\n",
              "<style scoped>\n",
              "    .dataframe tbody tr th:only-of-type {\n",
              "        vertical-align: middle;\n",
              "    }\n",
              "\n",
              "    .dataframe tbody tr th {\n",
              "        vertical-align: top;\n",
              "    }\n",
              "\n",
              "    .dataframe thead th {\n",
              "        text-align: right;\n",
              "    }\n",
              "</style>\n",
              "<table border=\"1\" class=\"dataframe\">\n",
              "  <thead>\n",
              "    <tr style=\"text-align: right;\">\n",
              "      <th></th>\n",
              "      <th>상가업소번호</th>\n",
              "      <th>상호명</th>\n",
              "      <th>지점명</th>\n",
              "      <th>상권업종대분류코드</th>\n",
              "      <th>상권업종대분류명</th>\n",
              "      <th>상권업종중분류코드</th>\n",
              "      <th>상권업종중분류명</th>\n",
              "      <th>상권업종소분류코드</th>\n",
              "      <th>상권업종소분류명</th>\n",
              "      <th>표준산업분류코드</th>\n",
              "      <th>표준산업분류명</th>\n",
              "      <th>시도코드</th>\n",
              "      <th>시도명</th>\n",
              "      <th>시군구코드</th>\n",
              "      <th>시군구명</th>\n",
              "      <th>행정동코드</th>\n",
              "      <th>행정동명</th>\n",
              "      <th>법정동코드</th>\n",
              "      <th>법정동명</th>\n",
              "      <th>지번코드</th>\n",
              "      <th>대지구분코드</th>\n",
              "      <th>대지구분명</th>\n",
              "      <th>지번본번지</th>\n",
              "      <th>지번부번지</th>\n",
              "      <th>지번주소</th>\n",
              "      <th>도로명코드</th>\n",
              "      <th>도로명</th>\n",
              "      <th>건물본번지</th>\n",
              "      <th>건물부번지</th>\n",
              "      <th>건물관리번호</th>\n",
              "      <th>건물명</th>\n",
              "      <th>도로명주소</th>\n",
              "      <th>구우편번호</th>\n",
              "      <th>신우편번호</th>\n",
              "      <th>동정보</th>\n",
              "      <th>층정보</th>\n",
              "      <th>호정보</th>\n",
              "      <th>경도</th>\n",
              "      <th>위도</th>\n",
              "    </tr>\n",
              "  </thead>\n",
              "  <tbody>\n",
              "    <tr>\n",
              "      <th>0</th>\n",
              "      <td>19956873</td>\n",
              "      <td>하나산부인과</td>\n",
              "      <td>NaN</td>\n",
              "      <td>S</td>\n",
              "      <td>의료</td>\n",
              "      <td>S01</td>\n",
              "      <td>병원</td>\n",
              "      <td>S01B10</td>\n",
              "      <td>산부인과</td>\n",
              "      <td>Q86201</td>\n",
              "      <td>일반 의원</td>\n",
              "      <td>41.0</td>\n",
              "      <td>경기도</td>\n",
              "      <td>41273.0</td>\n",
              "      <td>안산시 단원구</td>\n",
              "      <td>4127360000</td>\n",
              "      <td>선부3동</td>\n",
              "      <td>4.127311e+09</td>\n",
              "      <td>선부동</td>\n",
              "      <td>4127310900210810000</td>\n",
              "      <td>1</td>\n",
              "      <td>대지</td>\n",
              "      <td>1081</td>\n",
              "      <td>NaN</td>\n",
              "      <td>경기도 안산시 단원구 선부동 1081</td>\n",
              "      <td>412733191011</td>\n",
              "      <td>경기도 안산시 단원구 달미로</td>\n",
              "      <td>10</td>\n",
              "      <td>NaN</td>\n",
              "      <td>4127310900110810000010857</td>\n",
              "      <td>산호한양아파트</td>\n",
              "      <td>경기도 안산시 단원구 달미로 10</td>\n",
              "      <td>425764.0</td>\n",
              "      <td>15236.0</td>\n",
              "      <td>NaN</td>\n",
              "      <td>NaN</td>\n",
              "      <td>NaN</td>\n",
              "      <td>126.814295</td>\n",
              "      <td>37.336344</td>\n",
              "    </tr>\n",
              "    <tr>\n",
              "      <th>1</th>\n",
              "      <td>20024149</td>\n",
              "      <td>타워광명내과의원</td>\n",
              "      <td>NaN</td>\n",
              "      <td>S</td>\n",
              "      <td>의료</td>\n",
              "      <td>S01</td>\n",
              "      <td>병원</td>\n",
              "      <td>S01B07</td>\n",
              "      <td>내과/외과</td>\n",
              "      <td>Q86201</td>\n",
              "      <td>일반 의원</td>\n",
              "      <td>11.0</td>\n",
              "      <td>서울특별시</td>\n",
              "      <td>11680.0</td>\n",
              "      <td>강남구</td>\n",
              "      <td>1168065600</td>\n",
              "      <td>도곡2동</td>\n",
              "      <td>1.168012e+09</td>\n",
              "      <td>도곡동</td>\n",
              "      <td>1168011800204670014</td>\n",
              "      <td>1</td>\n",
              "      <td>대지</td>\n",
              "      <td>467</td>\n",
              "      <td>14.0</td>\n",
              "      <td>서울특별시 강남구 도곡동 467-14</td>\n",
              "      <td>116804166604</td>\n",
              "      <td>서울특별시 강남구 언주로30길</td>\n",
              "      <td>39</td>\n",
              "      <td>NaN</td>\n",
              "      <td>1168011800104670014000001</td>\n",
              "      <td>NaN</td>\n",
              "      <td>서울특별시 강남구 언주로30길 39</td>\n",
              "      <td>135270.0</td>\n",
              "      <td>6292.0</td>\n",
              "      <td>NaN</td>\n",
              "      <td>4</td>\n",
              "      <td>NaN</td>\n",
              "      <td>127.053198</td>\n",
              "      <td>37.488742</td>\n",
              "    </tr>\n",
              "    <tr>\n",
              "      <th>2</th>\n",
              "      <td>20152277</td>\n",
              "      <td>조정현신경외과의원</td>\n",
              "      <td>NaN</td>\n",
              "      <td>S</td>\n",
              "      <td>의료</td>\n",
              "      <td>S01</td>\n",
              "      <td>병원</td>\n",
              "      <td>S01B15</td>\n",
              "      <td>신경외과</td>\n",
              "      <td>Q86201</td>\n",
              "      <td>일반 의원</td>\n",
              "      <td>41.0</td>\n",
              "      <td>경기도</td>\n",
              "      <td>41390.0</td>\n",
              "      <td>시흥시</td>\n",
              "      <td>4139059100</td>\n",
              "      <td>정왕1동</td>\n",
              "      <td>4.139013e+09</td>\n",
              "      <td>정왕동</td>\n",
              "      <td>4139013200217400001</td>\n",
              "      <td>1</td>\n",
              "      <td>대지</td>\n",
              "      <td>1740</td>\n",
              "      <td>1.0</td>\n",
              "      <td>경기도 시흥시 정왕동 1740-1</td>\n",
              "      <td>413903199049</td>\n",
              "      <td>경기도 시흥시 중심상가로</td>\n",
              "      <td>178</td>\n",
              "      <td>NaN</td>\n",
              "      <td>4139013200117400001017064</td>\n",
              "      <td>한라프라자</td>\n",
              "      <td>경기도 시흥시 중심상가로 178</td>\n",
              "      <td>429450.0</td>\n",
              "      <td>15066.0</td>\n",
              "      <td>NaN</td>\n",
              "      <td>NaN</td>\n",
              "      <td>NaN</td>\n",
              "      <td>126.734841</td>\n",
              "      <td>37.344955</td>\n",
              "    </tr>\n",
              "    <tr>\n",
              "      <th>3</th>\n",
              "      <td>20350610</td>\n",
              "      <td>한귀원정신과의원</td>\n",
              "      <td>NaN</td>\n",
              "      <td>S</td>\n",
              "      <td>의료</td>\n",
              "      <td>S01</td>\n",
              "      <td>병원</td>\n",
              "      <td>S01B99</td>\n",
              "      <td>기타병원</td>\n",
              "      <td>NaN</td>\n",
              "      <td>NaN</td>\n",
              "      <td>26.0</td>\n",
              "      <td>부산광역시</td>\n",
              "      <td>26500.0</td>\n",
              "      <td>수영구</td>\n",
              "      <td>2650078000</td>\n",
              "      <td>광안3동</td>\n",
              "      <td>2.650010e+09</td>\n",
              "      <td>광안동</td>\n",
              "      <td>2650010400200740001</td>\n",
              "      <td>1</td>\n",
              "      <td>대지</td>\n",
              "      <td>74</td>\n",
              "      <td>1.0</td>\n",
              "      <td>부산광역시 수영구 광안동 74-1</td>\n",
              "      <td>265003131037</td>\n",
              "      <td>부산광역시 수영구 수영로</td>\n",
              "      <td>688</td>\n",
              "      <td>NaN</td>\n",
              "      <td>2650010400100740001009932</td>\n",
              "      <td>NaN</td>\n",
              "      <td>부산광역시 수영구 수영로 688</td>\n",
              "      <td>613100.0</td>\n",
              "      <td>48266.0</td>\n",
              "      <td>NaN</td>\n",
              "      <td>5</td>\n",
              "      <td>NaN</td>\n",
              "      <td>129.115438</td>\n",
              "      <td>35.166872</td>\n",
              "    </tr>\n",
              "    <tr>\n",
              "      <th>4</th>\n",
              "      <td>20364049</td>\n",
              "      <td>더블유스토어수지점</td>\n",
              "      <td>수지점</td>\n",
              "      <td>S</td>\n",
              "      <td>의료</td>\n",
              "      <td>S02</td>\n",
              "      <td>약국/한약방</td>\n",
              "      <td>S02A01</td>\n",
              "      <td>약국</td>\n",
              "      <td>G47811</td>\n",
              "      <td>의약품 및 의료용품 소매업</td>\n",
              "      <td>41.0</td>\n",
              "      <td>경기도</td>\n",
              "      <td>41465.0</td>\n",
              "      <td>용인시 수지구</td>\n",
              "      <td>4146551000</td>\n",
              "      <td>풍덕천1동</td>\n",
              "      <td>4.146510e+09</td>\n",
              "      <td>풍덕천동</td>\n",
              "      <td>4146510100207120002</td>\n",
              "      <td>1</td>\n",
              "      <td>대지</td>\n",
              "      <td>712</td>\n",
              "      <td>2.0</td>\n",
              "      <td>경기도 용인시 수지구 풍덕천동 712-2</td>\n",
              "      <td>414653205024</td>\n",
              "      <td>경기도 용인시 수지구 문정로</td>\n",
              "      <td>32</td>\n",
              "      <td>NaN</td>\n",
              "      <td>4146510100107120002026238</td>\n",
              "      <td>NaN</td>\n",
              "      <td>경기도 용인시 수지구 문정로 32</td>\n",
              "      <td>448170.0</td>\n",
              "      <td>16837.0</td>\n",
              "      <td>NaN</td>\n",
              "      <td>1</td>\n",
              "      <td>NaN</td>\n",
              "      <td>127.095522</td>\n",
              "      <td>37.323528</td>\n",
              "    </tr>\n",
              "  </tbody>\n",
              "</table>\n",
              "</div>"
            ],
            "text/plain": [
              "     상가업소번호        상호명  지점명 상권업종대분류코드  ...  층정보  호정보          경도         위도\n",
              "0  19956873     하나산부인과  NaN         S  ...  NaN  NaN  126.814295  37.336344\n",
              "1  20024149   타워광명내과의원  NaN         S  ...    4  NaN  127.053198  37.488742\n",
              "2  20152277  조정현신경외과의원  NaN         S  ...  NaN  NaN  126.734841  37.344955\n",
              "3  20350610   한귀원정신과의원  NaN         S  ...    5  NaN  129.115438  35.166872\n",
              "4  20364049  더블유스토어수지점  수지점         S  ...    1  NaN  127.095522  37.323528\n",
              "\n",
              "[5 rows x 39 columns]"
            ]
          },
          "metadata": {
            "tags": []
          },
          "execution_count": 6
        }
      ]
    },
    {
      "cell_type": "code",
      "metadata": {
        "colab": {
          "base_uri": "https://localhost:8080/",
          "height": 1000
        },
        "id": "9me7S4j8hT5L",
        "outputId": "339267f3-1c75-4de5-a972-2b06c9fba107"
      },
      "source": [
        "df.tail()"
      ],
      "execution_count": null,
      "outputs": [
        {
          "output_type": "execute_result",
          "data": {
            "text/html": [
              "<div>\n",
              "<style scoped>\n",
              "    .dataframe tbody tr th:only-of-type {\n",
              "        vertical-align: middle;\n",
              "    }\n",
              "\n",
              "    .dataframe tbody tr th {\n",
              "        vertical-align: top;\n",
              "    }\n",
              "\n",
              "    .dataframe thead th {\n",
              "        text-align: right;\n",
              "    }\n",
              "</style>\n",
              "<table border=\"1\" class=\"dataframe\">\n",
              "  <thead>\n",
              "    <tr style=\"text-align: right;\">\n",
              "      <th></th>\n",
              "      <th>상가업소번호</th>\n",
              "      <th>상호명</th>\n",
              "      <th>지점명</th>\n",
              "      <th>상권업종대분류코드</th>\n",
              "      <th>상권업종대분류명</th>\n",
              "      <th>상권업종중분류코드</th>\n",
              "      <th>상권업종중분류명</th>\n",
              "      <th>상권업종소분류코드</th>\n",
              "      <th>상권업종소분류명</th>\n",
              "      <th>표준산업분류코드</th>\n",
              "      <th>표준산업분류명</th>\n",
              "      <th>시도코드</th>\n",
              "      <th>시도명</th>\n",
              "      <th>시군구코드</th>\n",
              "      <th>시군구명</th>\n",
              "      <th>행정동코드</th>\n",
              "      <th>행정동명</th>\n",
              "      <th>법정동코드</th>\n",
              "      <th>법정동명</th>\n",
              "      <th>지번코드</th>\n",
              "      <th>대지구분코드</th>\n",
              "      <th>대지구분명</th>\n",
              "      <th>지번본번지</th>\n",
              "      <th>지번부번지</th>\n",
              "      <th>지번주소</th>\n",
              "      <th>도로명코드</th>\n",
              "      <th>도로명</th>\n",
              "      <th>건물본번지</th>\n",
              "      <th>건물부번지</th>\n",
              "      <th>건물관리번호</th>\n",
              "      <th>건물명</th>\n",
              "      <th>도로명주소</th>\n",
              "      <th>구우편번호</th>\n",
              "      <th>신우편번호</th>\n",
              "      <th>동정보</th>\n",
              "      <th>층정보</th>\n",
              "      <th>호정보</th>\n",
              "      <th>경도</th>\n",
              "      <th>위도</th>\n",
              "    </tr>\n",
              "  </thead>\n",
              "  <tbody>\n",
              "    <tr>\n",
              "      <th>91330</th>\n",
              "      <td>16196725</td>\n",
              "      <td>온누리약국</td>\n",
              "      <td>베스트</td>\n",
              "      <td>S</td>\n",
              "      <td>의료</td>\n",
              "      <td>S02</td>\n",
              "      <td>약국/한약방</td>\n",
              "      <td>S02A01</td>\n",
              "      <td>약국</td>\n",
              "      <td>G47811</td>\n",
              "      <td>의약품 및 의료용품 소매업</td>\n",
              "      <td>30.0</td>\n",
              "      <td>대전광역시</td>\n",
              "      <td>30170.0</td>\n",
              "      <td>서구</td>\n",
              "      <td>3017063000</td>\n",
              "      <td>둔산1동</td>\n",
              "      <td>3.017011e+09</td>\n",
              "      <td>둔산동</td>\n",
              "      <td>3017011200215070000</td>\n",
              "      <td>1</td>\n",
              "      <td>대지</td>\n",
              "      <td>1507</td>\n",
              "      <td>NaN</td>\n",
              "      <td>대전광역시 서구 둔산동 1507</td>\n",
              "      <td>301703166026</td>\n",
              "      <td>대전광역시 서구 문예로</td>\n",
              "      <td>67</td>\n",
              "      <td>NaN</td>\n",
              "      <td>3017011200115070000021096</td>\n",
              "      <td>NaN</td>\n",
              "      <td>대전광역시 서구 문예로 67</td>\n",
              "      <td>302831.0</td>\n",
              "      <td>35240.0</td>\n",
              "      <td>NaN</td>\n",
              "      <td>NaN</td>\n",
              "      <td>NaN</td>\n",
              "      <td>127.389865</td>\n",
              "      <td>36.352728</td>\n",
              "    </tr>\n",
              "    <tr>\n",
              "      <th>91331</th>\n",
              "      <td>16192180</td>\n",
              "      <td>리원</td>\n",
              "      <td>봄산후조</td>\n",
              "      <td>S</td>\n",
              "      <td>의료</td>\n",
              "      <td>S07</td>\n",
              "      <td>의료관련서비스업</td>\n",
              "      <td>S07A07</td>\n",
              "      <td>산후조리원</td>\n",
              "      <td>S96993</td>\n",
              "      <td>개인 간병인 및 유사 서비스업</td>\n",
              "      <td>41.0</td>\n",
              "      <td>경기도</td>\n",
              "      <td>41281.0</td>\n",
              "      <td>고양시 덕양구</td>\n",
              "      <td>4128162200</td>\n",
              "      <td>화정2동</td>\n",
              "      <td>4.128112e+09</td>\n",
              "      <td>화정동</td>\n",
              "      <td>4128112300211460000</td>\n",
              "      <td>1</td>\n",
              "      <td>대지</td>\n",
              "      <td>1146</td>\n",
              "      <td>NaN</td>\n",
              "      <td>경기도 고양시 덕양구 화정동 1146</td>\n",
              "      <td>412813192038</td>\n",
              "      <td>경기도 고양시 덕양구 성신로</td>\n",
              "      <td>14</td>\n",
              "      <td>NaN</td>\n",
              "      <td>4128112300111460000011715</td>\n",
              "      <td>청한프라자</td>\n",
              "      <td>경기도 고양시 덕양구 성신로 14</td>\n",
              "      <td>412827.0</td>\n",
              "      <td>10503.0</td>\n",
              "      <td>NaN</td>\n",
              "      <td>NaN</td>\n",
              "      <td>NaN</td>\n",
              "      <td>126.830144</td>\n",
              "      <td>37.627530</td>\n",
              "    </tr>\n",
              "    <tr>\n",
              "      <th>91332</th>\n",
              "      <td>16127538</td>\n",
              "      <td>참좋은요양병원</td>\n",
              "      <td>NaN</td>\n",
              "      <td>S</td>\n",
              "      <td>의료</td>\n",
              "      <td>S01</td>\n",
              "      <td>병원</td>\n",
              "      <td>S01B17</td>\n",
              "      <td>노인/치매병원</td>\n",
              "      <td>Q86102</td>\n",
              "      <td>일반 병원</td>\n",
              "      <td>26.0</td>\n",
              "      <td>부산광역시</td>\n",
              "      <td>26410.0</td>\n",
              "      <td>금정구</td>\n",
              "      <td>2641061000</td>\n",
              "      <td>장전2동</td>\n",
              "      <td>2.641011e+09</td>\n",
              "      <td>장전동</td>\n",
              "      <td>2641010800205380001</td>\n",
              "      <td>1</td>\n",
              "      <td>대지</td>\n",
              "      <td>538</td>\n",
              "      <td>1.0</td>\n",
              "      <td>부산광역시 금정구 장전동 538-1</td>\n",
              "      <td>264103130022</td>\n",
              "      <td>부산광역시 금정구 금강로</td>\n",
              "      <td>209</td>\n",
              "      <td>NaN</td>\n",
              "      <td>2641010800105380001005572</td>\n",
              "      <td>한신시티빌</td>\n",
              "      <td>부산광역시 금정구 금강로 209</td>\n",
              "      <td>609841.0</td>\n",
              "      <td>46294.0</td>\n",
              "      <td>NaN</td>\n",
              "      <td>2</td>\n",
              "      <td>NaN</td>\n",
              "      <td>129.082790</td>\n",
              "      <td>35.227138</td>\n",
              "    </tr>\n",
              "    <tr>\n",
              "      <th>91333</th>\n",
              "      <td>16108681</td>\n",
              "      <td>경희중앙한의원</td>\n",
              "      <td>NaN</td>\n",
              "      <td>S</td>\n",
              "      <td>의료</td>\n",
              "      <td>S01</td>\n",
              "      <td>병원</td>\n",
              "      <td>S01B06</td>\n",
              "      <td>한의원</td>\n",
              "      <td>Q86203</td>\n",
              "      <td>한의원</td>\n",
              "      <td>11.0</td>\n",
              "      <td>서울특별시</td>\n",
              "      <td>11740.0</td>\n",
              "      <td>강동구</td>\n",
              "      <td>1174068500</td>\n",
              "      <td>길동</td>\n",
              "      <td>1.174010e+09</td>\n",
              "      <td>길동</td>\n",
              "      <td>1174010500203450009</td>\n",
              "      <td>1</td>\n",
              "      <td>대지</td>\n",
              "      <td>345</td>\n",
              "      <td>9.0</td>\n",
              "      <td>서울특별시 강동구 길동 345-9</td>\n",
              "      <td>117403124009</td>\n",
              "      <td>서울특별시 강동구 천중로</td>\n",
              "      <td>213</td>\n",
              "      <td>NaN</td>\n",
              "      <td>1174010500103450009002392</td>\n",
              "      <td>NaN</td>\n",
              "      <td>서울특별시 강동구 천중로 213</td>\n",
              "      <td>134811.0</td>\n",
              "      <td>5303.0</td>\n",
              "      <td>NaN</td>\n",
              "      <td>NaN</td>\n",
              "      <td>NaN</td>\n",
              "      <td>127.143958</td>\n",
              "      <td>37.540993</td>\n",
              "    </tr>\n",
              "    <tr>\n",
              "      <th>91334</th>\n",
              "      <td>16109073</td>\n",
              "      <td>천안김안과천안역본점의원</td>\n",
              "      <td>NaN</td>\n",
              "      <td>S</td>\n",
              "      <td>의료</td>\n",
              "      <td>S01</td>\n",
              "      <td>병원</td>\n",
              "      <td>S01B13</td>\n",
              "      <td>안과의원</td>\n",
              "      <td>Q86201</td>\n",
              "      <td>일반 의원</td>\n",
              "      <td>44.0</td>\n",
              "      <td>충청남도</td>\n",
              "      <td>44131.0</td>\n",
              "      <td>천안시 동남구</td>\n",
              "      <td>4413153000</td>\n",
              "      <td>원성1동</td>\n",
              "      <td>4.413111e+09</td>\n",
              "      <td>원성동</td>\n",
              "      <td>4413110700202660017</td>\n",
              "      <td>1</td>\n",
              "      <td>대지</td>\n",
              "      <td>266</td>\n",
              "      <td>17.0</td>\n",
              "      <td>충청남도 천안시 동남구 원성동 266-17</td>\n",
              "      <td>441313249040</td>\n",
              "      <td>충청남도 천안시 동남구 중앙로</td>\n",
              "      <td>92</td>\n",
              "      <td>NaN</td>\n",
              "      <td>4413110700102660017016314</td>\n",
              "      <td>김안과</td>\n",
              "      <td>충청남도 천안시 동남구 중앙로 92</td>\n",
              "      <td>330952.0</td>\n",
              "      <td>31127.0</td>\n",
              "      <td>NaN</td>\n",
              "      <td>NaN</td>\n",
              "      <td>NaN</td>\n",
              "      <td>127.152651</td>\n",
              "      <td>36.806640</td>\n",
              "    </tr>\n",
              "  </tbody>\n",
              "</table>\n",
              "</div>"
            ],
            "text/plain": [
              "         상가업소번호           상호명   지점명 상권업종대분류코드  ...  층정보  호정보          경도         위도\n",
              "91330  16196725         온누리약국   베스트         S  ...  NaN  NaN  127.389865  36.352728\n",
              "91331  16192180            리원  봄산후조         S  ...  NaN  NaN  126.830144  37.627530\n",
              "91332  16127538       참좋은요양병원   NaN         S  ...    2  NaN  129.082790  35.227138\n",
              "91333  16108681       경희중앙한의원   NaN         S  ...  NaN  NaN  127.143958  37.540993\n",
              "91334  16109073  천안김안과천안역본점의원   NaN         S  ...  NaN  NaN  127.152651  36.806640\n",
              "\n",
              "[5 rows x 39 columns]"
            ]
          },
          "metadata": {
            "tags": []
          },
          "execution_count": 7
        }
      ]
    },
    {
      "cell_type": "code",
      "metadata": {
        "colab": {
          "base_uri": "https://localhost:8080/",
          "height": 463
        },
        "id": "poIvCVyXheUp",
        "outputId": "9cc0657f-3c26-4fdf-ac43-4495861b6cc8"
      },
      "source": [
        "#랜덤으로 데이터를 보여줌, 기본값은 1개\n",
        "df.sample()"
      ],
      "execution_count": null,
      "outputs": [
        {
          "output_type": "execute_result",
          "data": {
            "text/html": [
              "<div>\n",
              "<style scoped>\n",
              "    .dataframe tbody tr th:only-of-type {\n",
              "        vertical-align: middle;\n",
              "    }\n",
              "\n",
              "    .dataframe tbody tr th {\n",
              "        vertical-align: top;\n",
              "    }\n",
              "\n",
              "    .dataframe thead th {\n",
              "        text-align: right;\n",
              "    }\n",
              "</style>\n",
              "<table border=\"1\" class=\"dataframe\">\n",
              "  <thead>\n",
              "    <tr style=\"text-align: right;\">\n",
              "      <th></th>\n",
              "      <th>상가업소번호</th>\n",
              "      <th>상호명</th>\n",
              "      <th>지점명</th>\n",
              "      <th>상권업종대분류코드</th>\n",
              "      <th>상권업종대분류명</th>\n",
              "      <th>상권업종중분류코드</th>\n",
              "      <th>상권업종중분류명</th>\n",
              "      <th>상권업종소분류코드</th>\n",
              "      <th>상권업종소분류명</th>\n",
              "      <th>표준산업분류코드</th>\n",
              "      <th>표준산업분류명</th>\n",
              "      <th>시도코드</th>\n",
              "      <th>시도명</th>\n",
              "      <th>시군구코드</th>\n",
              "      <th>시군구명</th>\n",
              "      <th>행정동코드</th>\n",
              "      <th>행정동명</th>\n",
              "      <th>법정동코드</th>\n",
              "      <th>법정동명</th>\n",
              "      <th>지번코드</th>\n",
              "      <th>대지구분코드</th>\n",
              "      <th>대지구분명</th>\n",
              "      <th>지번본번지</th>\n",
              "      <th>지번부번지</th>\n",
              "      <th>지번주소</th>\n",
              "      <th>도로명코드</th>\n",
              "      <th>도로명</th>\n",
              "      <th>건물본번지</th>\n",
              "      <th>건물부번지</th>\n",
              "      <th>건물관리번호</th>\n",
              "      <th>건물명</th>\n",
              "      <th>도로명주소</th>\n",
              "      <th>구우편번호</th>\n",
              "      <th>신우편번호</th>\n",
              "      <th>동정보</th>\n",
              "      <th>층정보</th>\n",
              "      <th>호정보</th>\n",
              "      <th>경도</th>\n",
              "      <th>위도</th>\n",
              "    </tr>\n",
              "  </thead>\n",
              "  <tbody>\n",
              "    <tr>\n",
              "      <th>34432</th>\n",
              "      <td>26923628</td>\n",
              "      <td>미라클의원</td>\n",
              "      <td>NaN</td>\n",
              "      <td>S</td>\n",
              "      <td>의료</td>\n",
              "      <td>S01</td>\n",
              "      <td>병원</td>\n",
              "      <td>S01B02</td>\n",
              "      <td>일반병원</td>\n",
              "      <td>Q86102</td>\n",
              "      <td>일반 병원</td>\n",
              "      <td>41.0</td>\n",
              "      <td>경기도</td>\n",
              "      <td>41465.0</td>\n",
              "      <td>용인시 수지구</td>\n",
              "      <td>4146552000</td>\n",
              "      <td>풍덕천2동</td>\n",
              "      <td>4.146510e+09</td>\n",
              "      <td>풍덕천동</td>\n",
              "      <td>4146510100210800002</td>\n",
              "      <td>1</td>\n",
              "      <td>대지</td>\n",
              "      <td>1080</td>\n",
              "      <td>2.0</td>\n",
              "      <td>경기도 용인시 수지구 풍덕천동 1080-2</td>\n",
              "      <td>414653205021</td>\n",
              "      <td>경기도 용인시 수지구 풍덕천로</td>\n",
              "      <td>108</td>\n",
              "      <td>NaN</td>\n",
              "      <td>4146510100110800002026187</td>\n",
              "      <td>NaN</td>\n",
              "      <td>경기도 용인시 수지구 풍덕천로 108</td>\n",
              "      <td>448170.0</td>\n",
              "      <td>16841.0</td>\n",
              "      <td>2</td>\n",
              "      <td>NaN</td>\n",
              "      <td>NaN</td>\n",
              "      <td>127.094254</td>\n",
              "      <td>37.321933</td>\n",
              "    </tr>\n",
              "  </tbody>\n",
              "</table>\n",
              "</div>"
            ],
            "text/plain": [
              "         상가업소번호    상호명  지점명 상권업종대분류코드  ...  층정보  호정보          경도         위도\n",
              "34432  26923628  미라클의원  NaN         S  ...  NaN  NaN  127.094254  37.321933\n",
              "\n",
              "[1 rows x 39 columns]"
            ]
          },
          "metadata": {
            "tags": []
          },
          "execution_count": 8
        }
      ]
    },
    {
      "cell_type": "markdown",
      "metadata": {
        "id": "yCi54kBoifPX"
      },
      "source": [
        "####데이터 요약하기"
      ]
    },
    {
      "cell_type": "markdown",
      "metadata": {
        "id": "9YeNNIZNiiD5"
      },
      "source": [
        "#####요약정보"
      ]
    },
    {
      "cell_type": "code",
      "metadata": {
        "colab": {
          "base_uri": "https://localhost:8080/"
        },
        "id": "gB9j2JcoiTJE",
        "outputId": "8f88cfe6-0a6f-4a7e-c885-e275c0488b50"
      },
      "source": [
        "#info로 데이터의 요약을 확인\n",
        "df.info()"
      ],
      "execution_count": null,
      "outputs": [
        {
          "output_type": "stream",
          "text": [
            "<class 'pandas.core.frame.DataFrame'>\n",
            "RangeIndex: 91335 entries, 0 to 91334\n",
            "Data columns (total 39 columns):\n",
            " #   Column     Non-Null Count  Dtype  \n",
            "---  ------     --------------  -----  \n",
            " 0   상가업소번호     91335 non-null  int64  \n",
            " 1   상호명        91335 non-null  object \n",
            " 2   지점명        1346 non-null   object \n",
            " 3   상권업종대분류코드  91335 non-null  object \n",
            " 4   상권업종대분류명   91335 non-null  object \n",
            " 5   상권업종중분류코드  91335 non-null  object \n",
            " 6   상권업종중분류명   91335 non-null  object \n",
            " 7   상권업종소분류코드  91335 non-null  object \n",
            " 8   상권업종소분류명   91335 non-null  object \n",
            " 9   표준산업분류코드   86413 non-null  object \n",
            " 10  표준산업분류명    86413 non-null  object \n",
            " 11  시도코드       90956 non-null  float64\n",
            " 12  시도명        90956 non-null  object \n",
            " 13  시군구코드      90956 non-null  float64\n",
            " 14  시군구명       90956 non-null  object \n",
            " 15  행정동코드      91335 non-null  int64  \n",
            " 16  행정동명       90956 non-null  object \n",
            " 17  법정동코드      91280 non-null  float64\n",
            " 18  법정동명       91280 non-null  object \n",
            " 19  지번코드       91335 non-null  int64  \n",
            " 20  대지구분코드     91335 non-null  int64  \n",
            " 21  대지구분명      91335 non-null  object \n",
            " 22  지번본번지      91335 non-null  int64  \n",
            " 23  지번부번지      72079 non-null  float64\n",
            " 24  지번주소       91335 non-null  object \n",
            " 25  도로명코드      91335 non-null  int64  \n",
            " 26  도로명        91335 non-null  object \n",
            " 27  건물본번지      91335 non-null  int64  \n",
            " 28  건물부번지      10604 non-null  float64\n",
            " 29  건물관리번호     91335 non-null  object \n",
            " 30  건물명        46453 non-null  object \n",
            " 31  도로명주소      91335 non-null  object \n",
            " 32  구우편번호      91323 non-null  float64\n",
            " 33  신우편번호      91333 non-null  float64\n",
            " 34  동정보        7406 non-null   object \n",
            " 35  층정보        44044 non-null  object \n",
            " 36  호정보        15551 non-null  object \n",
            " 37  경도         91335 non-null  float64\n",
            " 38  위도         91335 non-null  float64\n",
            "dtypes: float64(9), int64(7), object(23)\n",
            "memory usage: 27.2+ MB\n"
          ],
          "name": "stdout"
        }
      ]
    },
    {
      "cell_type": "markdown",
      "metadata": {
        "id": "BQvWscrgjD6Z"
      },
      "source": [
        "##### 컬럼명 보기"
      ]
    },
    {
      "cell_type": "code",
      "metadata": {
        "colab": {
          "base_uri": "https://localhost:8080/"
        },
        "id": "YqdkaD2tinKV",
        "outputId": "b13fa0fd-7bf9-4209-c018-1f483ee88a75"
      },
      "source": [
        "df.columns"
      ],
      "execution_count": null,
      "outputs": [
        {
          "output_type": "execute_result",
          "data": {
            "text/plain": [
              "Index(['상가업소번호', '상호명', '지점명', '상권업종대분류코드', '상권업종대분류명', '상권업종중분류코드',\n",
              "       '상권업종중분류명', '상권업종소분류코드', '상권업종소분류명', '표준산업분류코드', '표준산업분류명', '시도코드',\n",
              "       '시도명', '시군구코드', '시군구명', '행정동코드', '행정동명', '법정동코드', '법정동명', '지번코드',\n",
              "       '대지구분코드', '대지구분명', '지번본번지', '지번부번지', '지번주소', '도로명코드', '도로명', '건물본번지',\n",
              "       '건물부번지', '건물관리번호', '건물명', '도로명주소', '구우편번호', '신우편번호', '동정보', '층정보',\n",
              "       '호정보', '경도', '위도'],\n",
              "      dtype='object')"
            ]
          },
          "metadata": {
            "tags": []
          },
          "execution_count": 10
        }
      ]
    },
    {
      "cell_type": "markdown",
      "metadata": {
        "id": "gxwJ3MjdjIo5"
      },
      "source": [
        "#####데이터 타입"
      ]
    },
    {
      "cell_type": "code",
      "metadata": {
        "colab": {
          "base_uri": "https://localhost:8080/"
        },
        "id": "Tfo6V2kMjHWB",
        "outputId": "ac29816e-b04d-44c3-db71-28d58ce25c05"
      },
      "source": [
        "df.dtypes"
      ],
      "execution_count": null,
      "outputs": [
        {
          "output_type": "execute_result",
          "data": {
            "text/plain": [
              "상가업소번호         int64\n",
              "상호명           object\n",
              "지점명           object\n",
              "상권업종대분류코드     object\n",
              "상권업종대분류명      object\n",
              "상권업종중분류코드     object\n",
              "상권업종중분류명      object\n",
              "상권업종소분류코드     object\n",
              "상권업종소분류명      object\n",
              "표준산업분류코드      object\n",
              "표준산업분류명       object\n",
              "시도코드         float64\n",
              "시도명           object\n",
              "시군구코드        float64\n",
              "시군구명          object\n",
              "행정동코드          int64\n",
              "행정동명          object\n",
              "법정동코드        float64\n",
              "법정동명          object\n",
              "지번코드           int64\n",
              "대지구분코드         int64\n",
              "대지구분명         object\n",
              "지번본번지          int64\n",
              "지번부번지        float64\n",
              "지번주소          object\n",
              "도로명코드          int64\n",
              "도로명           object\n",
              "건물본번지          int64\n",
              "건물부번지        float64\n",
              "건물관리번호        object\n",
              "건물명           object\n",
              "도로명주소         object\n",
              "구우편번호        float64\n",
              "신우편번호        float64\n",
              "동정보           object\n",
              "층정보           object\n",
              "호정보           object\n",
              "경도           float64\n",
              "위도           float64\n",
              "dtype: object"
            ]
          },
          "metadata": {
            "tags": []
          },
          "execution_count": 11
        }
      ]
    },
    {
      "cell_type": "markdown",
      "metadata": {
        "id": "a07QcHojpywC"
      },
      "source": [
        "####결측치"
      ]
    },
    {
      "cell_type": "code",
      "metadata": {
        "colab": {
          "base_uri": "https://localhost:8080/",
          "height": 450
        },
        "id": "fb34CRcljLV7",
        "outputId": "14aba903-1671-48ca-c150-5038d1b826b4"
      },
      "source": [
        "#True로 표시되는 값이 null이다.\n",
        "df.isnull()"
      ],
      "execution_count": null,
      "outputs": [
        {
          "output_type": "execute_result",
          "data": {
            "text/html": [
              "<div>\n",
              "<style scoped>\n",
              "    .dataframe tbody tr th:only-of-type {\n",
              "        vertical-align: middle;\n",
              "    }\n",
              "\n",
              "    .dataframe tbody tr th {\n",
              "        vertical-align: top;\n",
              "    }\n",
              "\n",
              "    .dataframe thead th {\n",
              "        text-align: right;\n",
              "    }\n",
              "</style>\n",
              "<table border=\"1\" class=\"dataframe\">\n",
              "  <thead>\n",
              "    <tr style=\"text-align: right;\">\n",
              "      <th></th>\n",
              "      <th>상가업소번호</th>\n",
              "      <th>상호명</th>\n",
              "      <th>지점명</th>\n",
              "      <th>상권업종대분류코드</th>\n",
              "      <th>상권업종대분류명</th>\n",
              "      <th>상권업종중분류코드</th>\n",
              "      <th>상권업종중분류명</th>\n",
              "      <th>상권업종소분류코드</th>\n",
              "      <th>상권업종소분류명</th>\n",
              "      <th>표준산업분류코드</th>\n",
              "      <th>표준산업분류명</th>\n",
              "      <th>시도코드</th>\n",
              "      <th>시도명</th>\n",
              "      <th>시군구코드</th>\n",
              "      <th>시군구명</th>\n",
              "      <th>행정동코드</th>\n",
              "      <th>행정동명</th>\n",
              "      <th>법정동코드</th>\n",
              "      <th>법정동명</th>\n",
              "      <th>지번코드</th>\n",
              "      <th>대지구분코드</th>\n",
              "      <th>대지구분명</th>\n",
              "      <th>지번본번지</th>\n",
              "      <th>지번부번지</th>\n",
              "      <th>지번주소</th>\n",
              "      <th>도로명코드</th>\n",
              "      <th>도로명</th>\n",
              "      <th>건물본번지</th>\n",
              "      <th>건물부번지</th>\n",
              "      <th>건물관리번호</th>\n",
              "      <th>건물명</th>\n",
              "      <th>도로명주소</th>\n",
              "      <th>구우편번호</th>\n",
              "      <th>신우편번호</th>\n",
              "      <th>동정보</th>\n",
              "      <th>층정보</th>\n",
              "      <th>호정보</th>\n",
              "      <th>경도</th>\n",
              "      <th>위도</th>\n",
              "    </tr>\n",
              "  </thead>\n",
              "  <tbody>\n",
              "    <tr>\n",
              "      <th>0</th>\n",
              "      <td>False</td>\n",
              "      <td>False</td>\n",
              "      <td>True</td>\n",
              "      <td>False</td>\n",
              "      <td>False</td>\n",
              "      <td>False</td>\n",
              "      <td>False</td>\n",
              "      <td>False</td>\n",
              "      <td>False</td>\n",
              "      <td>False</td>\n",
              "      <td>False</td>\n",
              "      <td>False</td>\n",
              "      <td>False</td>\n",
              "      <td>False</td>\n",
              "      <td>False</td>\n",
              "      <td>False</td>\n",
              "      <td>False</td>\n",
              "      <td>False</td>\n",
              "      <td>False</td>\n",
              "      <td>False</td>\n",
              "      <td>False</td>\n",
              "      <td>False</td>\n",
              "      <td>False</td>\n",
              "      <td>True</td>\n",
              "      <td>False</td>\n",
              "      <td>False</td>\n",
              "      <td>False</td>\n",
              "      <td>False</td>\n",
              "      <td>True</td>\n",
              "      <td>False</td>\n",
              "      <td>False</td>\n",
              "      <td>False</td>\n",
              "      <td>False</td>\n",
              "      <td>False</td>\n",
              "      <td>True</td>\n",
              "      <td>True</td>\n",
              "      <td>True</td>\n",
              "      <td>False</td>\n",
              "      <td>False</td>\n",
              "    </tr>\n",
              "    <tr>\n",
              "      <th>1</th>\n",
              "      <td>False</td>\n",
              "      <td>False</td>\n",
              "      <td>True</td>\n",
              "      <td>False</td>\n",
              "      <td>False</td>\n",
              "      <td>False</td>\n",
              "      <td>False</td>\n",
              "      <td>False</td>\n",
              "      <td>False</td>\n",
              "      <td>False</td>\n",
              "      <td>False</td>\n",
              "      <td>False</td>\n",
              "      <td>False</td>\n",
              "      <td>False</td>\n",
              "      <td>False</td>\n",
              "      <td>False</td>\n",
              "      <td>False</td>\n",
              "      <td>False</td>\n",
              "      <td>False</td>\n",
              "      <td>False</td>\n",
              "      <td>False</td>\n",
              "      <td>False</td>\n",
              "      <td>False</td>\n",
              "      <td>False</td>\n",
              "      <td>False</td>\n",
              "      <td>False</td>\n",
              "      <td>False</td>\n",
              "      <td>False</td>\n",
              "      <td>True</td>\n",
              "      <td>False</td>\n",
              "      <td>True</td>\n",
              "      <td>False</td>\n",
              "      <td>False</td>\n",
              "      <td>False</td>\n",
              "      <td>True</td>\n",
              "      <td>False</td>\n",
              "      <td>True</td>\n",
              "      <td>False</td>\n",
              "      <td>False</td>\n",
              "    </tr>\n",
              "    <tr>\n",
              "      <th>2</th>\n",
              "      <td>False</td>\n",
              "      <td>False</td>\n",
              "      <td>True</td>\n",
              "      <td>False</td>\n",
              "      <td>False</td>\n",
              "      <td>False</td>\n",
              "      <td>False</td>\n",
              "      <td>False</td>\n",
              "      <td>False</td>\n",
              "      <td>False</td>\n",
              "      <td>False</td>\n",
              "      <td>False</td>\n",
              "      <td>False</td>\n",
              "      <td>False</td>\n",
              "      <td>False</td>\n",
              "      <td>False</td>\n",
              "      <td>False</td>\n",
              "      <td>False</td>\n",
              "      <td>False</td>\n",
              "      <td>False</td>\n",
              "      <td>False</td>\n",
              "      <td>False</td>\n",
              "      <td>False</td>\n",
              "      <td>False</td>\n",
              "      <td>False</td>\n",
              "      <td>False</td>\n",
              "      <td>False</td>\n",
              "      <td>False</td>\n",
              "      <td>True</td>\n",
              "      <td>False</td>\n",
              "      <td>False</td>\n",
              "      <td>False</td>\n",
              "      <td>False</td>\n",
              "      <td>False</td>\n",
              "      <td>True</td>\n",
              "      <td>True</td>\n",
              "      <td>True</td>\n",
              "      <td>False</td>\n",
              "      <td>False</td>\n",
              "    </tr>\n",
              "    <tr>\n",
              "      <th>3</th>\n",
              "      <td>False</td>\n",
              "      <td>False</td>\n",
              "      <td>True</td>\n",
              "      <td>False</td>\n",
              "      <td>False</td>\n",
              "      <td>False</td>\n",
              "      <td>False</td>\n",
              "      <td>False</td>\n",
              "      <td>False</td>\n",
              "      <td>True</td>\n",
              "      <td>True</td>\n",
              "      <td>False</td>\n",
              "      <td>False</td>\n",
              "      <td>False</td>\n",
              "      <td>False</td>\n",
              "      <td>False</td>\n",
              "      <td>False</td>\n",
              "      <td>False</td>\n",
              "      <td>False</td>\n",
              "      <td>False</td>\n",
              "      <td>False</td>\n",
              "      <td>False</td>\n",
              "      <td>False</td>\n",
              "      <td>False</td>\n",
              "      <td>False</td>\n",
              "      <td>False</td>\n",
              "      <td>False</td>\n",
              "      <td>False</td>\n",
              "      <td>True</td>\n",
              "      <td>False</td>\n",
              "      <td>True</td>\n",
              "      <td>False</td>\n",
              "      <td>False</td>\n",
              "      <td>False</td>\n",
              "      <td>True</td>\n",
              "      <td>False</td>\n",
              "      <td>True</td>\n",
              "      <td>False</td>\n",
              "      <td>False</td>\n",
              "    </tr>\n",
              "    <tr>\n",
              "      <th>4</th>\n",
              "      <td>False</td>\n",
              "      <td>False</td>\n",
              "      <td>False</td>\n",
              "      <td>False</td>\n",
              "      <td>False</td>\n",
              "      <td>False</td>\n",
              "      <td>False</td>\n",
              "      <td>False</td>\n",
              "      <td>False</td>\n",
              "      <td>False</td>\n",
              "      <td>False</td>\n",
              "      <td>False</td>\n",
              "      <td>False</td>\n",
              "      <td>False</td>\n",
              "      <td>False</td>\n",
              "      <td>False</td>\n",
              "      <td>False</td>\n",
              "      <td>False</td>\n",
              "      <td>False</td>\n",
              "      <td>False</td>\n",
              "      <td>False</td>\n",
              "      <td>False</td>\n",
              "      <td>False</td>\n",
              "      <td>False</td>\n",
              "      <td>False</td>\n",
              "      <td>False</td>\n",
              "      <td>False</td>\n",
              "      <td>False</td>\n",
              "      <td>True</td>\n",
              "      <td>False</td>\n",
              "      <td>True</td>\n",
              "      <td>False</td>\n",
              "      <td>False</td>\n",
              "      <td>False</td>\n",
              "      <td>True</td>\n",
              "      <td>False</td>\n",
              "      <td>True</td>\n",
              "      <td>False</td>\n",
              "      <td>False</td>\n",
              "    </tr>\n",
              "    <tr>\n",
              "      <th>...</th>\n",
              "      <td>...</td>\n",
              "      <td>...</td>\n",
              "      <td>...</td>\n",
              "      <td>...</td>\n",
              "      <td>...</td>\n",
              "      <td>...</td>\n",
              "      <td>...</td>\n",
              "      <td>...</td>\n",
              "      <td>...</td>\n",
              "      <td>...</td>\n",
              "      <td>...</td>\n",
              "      <td>...</td>\n",
              "      <td>...</td>\n",
              "      <td>...</td>\n",
              "      <td>...</td>\n",
              "      <td>...</td>\n",
              "      <td>...</td>\n",
              "      <td>...</td>\n",
              "      <td>...</td>\n",
              "      <td>...</td>\n",
              "      <td>...</td>\n",
              "      <td>...</td>\n",
              "      <td>...</td>\n",
              "      <td>...</td>\n",
              "      <td>...</td>\n",
              "      <td>...</td>\n",
              "      <td>...</td>\n",
              "      <td>...</td>\n",
              "      <td>...</td>\n",
              "      <td>...</td>\n",
              "      <td>...</td>\n",
              "      <td>...</td>\n",
              "      <td>...</td>\n",
              "      <td>...</td>\n",
              "      <td>...</td>\n",
              "      <td>...</td>\n",
              "      <td>...</td>\n",
              "      <td>...</td>\n",
              "      <td>...</td>\n",
              "    </tr>\n",
              "    <tr>\n",
              "      <th>91330</th>\n",
              "      <td>False</td>\n",
              "      <td>False</td>\n",
              "      <td>False</td>\n",
              "      <td>False</td>\n",
              "      <td>False</td>\n",
              "      <td>False</td>\n",
              "      <td>False</td>\n",
              "      <td>False</td>\n",
              "      <td>False</td>\n",
              "      <td>False</td>\n",
              "      <td>False</td>\n",
              "      <td>False</td>\n",
              "      <td>False</td>\n",
              "      <td>False</td>\n",
              "      <td>False</td>\n",
              "      <td>False</td>\n",
              "      <td>False</td>\n",
              "      <td>False</td>\n",
              "      <td>False</td>\n",
              "      <td>False</td>\n",
              "      <td>False</td>\n",
              "      <td>False</td>\n",
              "      <td>False</td>\n",
              "      <td>True</td>\n",
              "      <td>False</td>\n",
              "      <td>False</td>\n",
              "      <td>False</td>\n",
              "      <td>False</td>\n",
              "      <td>True</td>\n",
              "      <td>False</td>\n",
              "      <td>True</td>\n",
              "      <td>False</td>\n",
              "      <td>False</td>\n",
              "      <td>False</td>\n",
              "      <td>True</td>\n",
              "      <td>True</td>\n",
              "      <td>True</td>\n",
              "      <td>False</td>\n",
              "      <td>False</td>\n",
              "    </tr>\n",
              "    <tr>\n",
              "      <th>91331</th>\n",
              "      <td>False</td>\n",
              "      <td>False</td>\n",
              "      <td>False</td>\n",
              "      <td>False</td>\n",
              "      <td>False</td>\n",
              "      <td>False</td>\n",
              "      <td>False</td>\n",
              "      <td>False</td>\n",
              "      <td>False</td>\n",
              "      <td>False</td>\n",
              "      <td>False</td>\n",
              "      <td>False</td>\n",
              "      <td>False</td>\n",
              "      <td>False</td>\n",
              "      <td>False</td>\n",
              "      <td>False</td>\n",
              "      <td>False</td>\n",
              "      <td>False</td>\n",
              "      <td>False</td>\n",
              "      <td>False</td>\n",
              "      <td>False</td>\n",
              "      <td>False</td>\n",
              "      <td>False</td>\n",
              "      <td>True</td>\n",
              "      <td>False</td>\n",
              "      <td>False</td>\n",
              "      <td>False</td>\n",
              "      <td>False</td>\n",
              "      <td>True</td>\n",
              "      <td>False</td>\n",
              "      <td>False</td>\n",
              "      <td>False</td>\n",
              "      <td>False</td>\n",
              "      <td>False</td>\n",
              "      <td>True</td>\n",
              "      <td>True</td>\n",
              "      <td>True</td>\n",
              "      <td>False</td>\n",
              "      <td>False</td>\n",
              "    </tr>\n",
              "    <tr>\n",
              "      <th>91332</th>\n",
              "      <td>False</td>\n",
              "      <td>False</td>\n",
              "      <td>True</td>\n",
              "      <td>False</td>\n",
              "      <td>False</td>\n",
              "      <td>False</td>\n",
              "      <td>False</td>\n",
              "      <td>False</td>\n",
              "      <td>False</td>\n",
              "      <td>False</td>\n",
              "      <td>False</td>\n",
              "      <td>False</td>\n",
              "      <td>False</td>\n",
              "      <td>False</td>\n",
              "      <td>False</td>\n",
              "      <td>False</td>\n",
              "      <td>False</td>\n",
              "      <td>False</td>\n",
              "      <td>False</td>\n",
              "      <td>False</td>\n",
              "      <td>False</td>\n",
              "      <td>False</td>\n",
              "      <td>False</td>\n",
              "      <td>False</td>\n",
              "      <td>False</td>\n",
              "      <td>False</td>\n",
              "      <td>False</td>\n",
              "      <td>False</td>\n",
              "      <td>True</td>\n",
              "      <td>False</td>\n",
              "      <td>False</td>\n",
              "      <td>False</td>\n",
              "      <td>False</td>\n",
              "      <td>False</td>\n",
              "      <td>True</td>\n",
              "      <td>False</td>\n",
              "      <td>True</td>\n",
              "      <td>False</td>\n",
              "      <td>False</td>\n",
              "    </tr>\n",
              "    <tr>\n",
              "      <th>91333</th>\n",
              "      <td>False</td>\n",
              "      <td>False</td>\n",
              "      <td>True</td>\n",
              "      <td>False</td>\n",
              "      <td>False</td>\n",
              "      <td>False</td>\n",
              "      <td>False</td>\n",
              "      <td>False</td>\n",
              "      <td>False</td>\n",
              "      <td>False</td>\n",
              "      <td>False</td>\n",
              "      <td>False</td>\n",
              "      <td>False</td>\n",
              "      <td>False</td>\n",
              "      <td>False</td>\n",
              "      <td>False</td>\n",
              "      <td>False</td>\n",
              "      <td>False</td>\n",
              "      <td>False</td>\n",
              "      <td>False</td>\n",
              "      <td>False</td>\n",
              "      <td>False</td>\n",
              "      <td>False</td>\n",
              "      <td>False</td>\n",
              "      <td>False</td>\n",
              "      <td>False</td>\n",
              "      <td>False</td>\n",
              "      <td>False</td>\n",
              "      <td>True</td>\n",
              "      <td>False</td>\n",
              "      <td>True</td>\n",
              "      <td>False</td>\n",
              "      <td>False</td>\n",
              "      <td>False</td>\n",
              "      <td>True</td>\n",
              "      <td>True</td>\n",
              "      <td>True</td>\n",
              "      <td>False</td>\n",
              "      <td>False</td>\n",
              "    </tr>\n",
              "    <tr>\n",
              "      <th>91334</th>\n",
              "      <td>False</td>\n",
              "      <td>False</td>\n",
              "      <td>True</td>\n",
              "      <td>False</td>\n",
              "      <td>False</td>\n",
              "      <td>False</td>\n",
              "      <td>False</td>\n",
              "      <td>False</td>\n",
              "      <td>False</td>\n",
              "      <td>False</td>\n",
              "      <td>False</td>\n",
              "      <td>False</td>\n",
              "      <td>False</td>\n",
              "      <td>False</td>\n",
              "      <td>False</td>\n",
              "      <td>False</td>\n",
              "      <td>False</td>\n",
              "      <td>False</td>\n",
              "      <td>False</td>\n",
              "      <td>False</td>\n",
              "      <td>False</td>\n",
              "      <td>False</td>\n",
              "      <td>False</td>\n",
              "      <td>False</td>\n",
              "      <td>False</td>\n",
              "      <td>False</td>\n",
              "      <td>False</td>\n",
              "      <td>False</td>\n",
              "      <td>True</td>\n",
              "      <td>False</td>\n",
              "      <td>False</td>\n",
              "      <td>False</td>\n",
              "      <td>False</td>\n",
              "      <td>False</td>\n",
              "      <td>True</td>\n",
              "      <td>True</td>\n",
              "      <td>True</td>\n",
              "      <td>False</td>\n",
              "      <td>False</td>\n",
              "    </tr>\n",
              "  </tbody>\n",
              "</table>\n",
              "<p>91335 rows × 39 columns</p>\n",
              "</div>"
            ],
            "text/plain": [
              "       상가업소번호    상호명    지점명  상권업종대분류코드  ...    층정보   호정보     경도     위도\n",
              "0       False  False   True      False  ...   True  True  False  False\n",
              "1       False  False   True      False  ...  False  True  False  False\n",
              "2       False  False   True      False  ...   True  True  False  False\n",
              "3       False  False   True      False  ...  False  True  False  False\n",
              "4       False  False  False      False  ...  False  True  False  False\n",
              "...       ...    ...    ...        ...  ...    ...   ...    ...    ...\n",
              "91330   False  False  False      False  ...   True  True  False  False\n",
              "91331   False  False  False      False  ...   True  True  False  False\n",
              "91332   False  False   True      False  ...  False  True  False  False\n",
              "91333   False  False   True      False  ...   True  True  False  False\n",
              "91334   False  False   True      False  ...   True  True  False  False\n",
              "\n",
              "[91335 rows x 39 columns]"
            ]
          },
          "metadata": {
            "tags": []
          },
          "execution_count": 12
        }
      ]
    },
    {
      "cell_type": "code",
      "metadata": {
        "colab": {
          "base_uri": "https://localhost:8080/"
        },
        "id": "_5DCWrUMp1Da",
        "outputId": "6127feb8-47bb-4a80-bc4a-78da12b67659"
      },
      "source": [
        "null_count = df.isnull().sum()\n",
        "null_count"
      ],
      "execution_count": 25,
      "outputs": [
        {
          "output_type": "execute_result",
          "data": {
            "text/plain": [
              "상가업소번호           0\n",
              "상호명              0\n",
              "지점명          89989\n",
              "상권업종대분류코드        0\n",
              "상권업종대분류명         0\n",
              "상권업종중분류코드        0\n",
              "상권업종중분류명         0\n",
              "상권업종소분류코드        0\n",
              "상권업종소분류명         0\n",
              "표준산업분류코드      4922\n",
              "표준산업분류명       4922\n",
              "시도코드           379\n",
              "시도명            379\n",
              "시군구코드          379\n",
              "시군구명           379\n",
              "행정동코드            0\n",
              "행정동명           379\n",
              "법정동코드           55\n",
              "법정동명            55\n",
              "지번코드             0\n",
              "대지구분코드           0\n",
              "대지구분명            0\n",
              "지번본번지            0\n",
              "지번부번지        19256\n",
              "지번주소             0\n",
              "도로명코드            0\n",
              "도로명              0\n",
              "건물본번지            0\n",
              "건물부번지        80731\n",
              "건물관리번호           0\n",
              "건물명          44882\n",
              "도로명주소            0\n",
              "구우편번호           12\n",
              "신우편번호            2\n",
              "동정보          83929\n",
              "층정보          47291\n",
              "호정보          75784\n",
              "경도               0\n",
              "위도               0\n",
              "dtype: int64"
            ]
          },
          "metadata": {
            "tags": []
          },
          "execution_count": 25
        }
      ]
    },
    {
      "cell_type": "code",
      "metadata": {
        "colab": {
          "base_uri": "https://localhost:8080/",
          "height": 449
        },
        "id": "XJAsasSYp9tr",
        "outputId": "03836258-3937-44e6-a8c9-c12e7e4f2a6d"
      },
      "source": [
        "#결측치를 plot.barh를 통해 막대그래프로 표현\n",
        "\n",
        "null_count.plot.barh(figsize=(5,7))"
      ],
      "execution_count": 26,
      "outputs": [
        {
          "output_type": "execute_result",
          "data": {
            "text/plain": [
              "<matplotlib.axes._subplots.AxesSubplot at 0x7fc7084969d0>"
            ]
          },
          "metadata": {
            "tags": []
          },
          "execution_count": 26
        },
        {
          "output_type": "display_data",
          "data": {
            "image/png": "[encoded data removed]",
            "text/plain": [
              "<Figure size 360x504 with 1 Axes>"
            ]
          },
          "metadata": {
            "tags": [],
            "image/png": {
              "width": 380,
              "height": 412
            }
          }
        }
      ]
    },
    {
      "cell_type": "code",
      "metadata": {
        "colab": {
          "base_uri": "https://localhost:8080/",
          "height": 1000
        },
        "id": "9eXh0KTGqNg1",
        "outputId": "ffde9f07-c197-4f44-b182-c4c338b9183a"
      },
      "source": [
        "#위에서 계산한 결측치 수를 reset_index를 통해 데이터 프레임으로 만들어 줌\n",
        "df_null_count = null_count.reset_index()\n",
        "df_null_count"
      ],
      "execution_count": 27,
      "outputs": [
        {
          "output_type": "execute_result",
          "data": {
            "text/html": [
              "<div>\n",
              "<style scoped>\n",
              "    .dataframe tbody tr th:only-of-type {\n",
              "        vertical-align: middle;\n",
              "    }\n",
              "\n",
              "    .dataframe tbody tr th {\n",
              "        vertical-align: top;\n",
              "    }\n",
              "\n",
              "    .dataframe thead th {\n",
              "        text-align: right;\n",
              "    }\n",
              "</style>\n",
              "<table border=\"1\" class=\"dataframe\">\n",
              "  <thead>\n",
              "    <tr style=\"text-align: right;\">\n",
              "      <th></th>\n",
              "      <th>index</th>\n",
              "      <th>0</th>\n",
              "    </tr>\n",
              "  </thead>\n",
              "  <tbody>\n",
              "    <tr>\n",
              "      <th>0</th>\n",
              "      <td>상가업소번호</td>\n",
              "      <td>0</td>\n",
              "    </tr>\n",
              "    <tr>\n",
              "      <th>1</th>\n",
              "      <td>상호명</td>\n",
              "      <td>0</td>\n",
              "    </tr>\n",
              "    <tr>\n",
              "      <th>2</th>\n",
              "      <td>지점명</td>\n",
              "      <td>89989</td>\n",
              "    </tr>\n",
              "    <tr>\n",
              "      <th>3</th>\n",
              "      <td>상권업종대분류코드</td>\n",
              "      <td>0</td>\n",
              "    </tr>\n",
              "    <tr>\n",
              "      <th>4</th>\n",
              "      <td>상권업종대분류명</td>\n",
              "      <td>0</td>\n",
              "    </tr>\n",
              "    <tr>\n",
              "      <th>5</th>\n",
              "      <td>상권업종중분류코드</td>\n",
              "      <td>0</td>\n",
              "    </tr>\n",
              "    <tr>\n",
              "      <th>6</th>\n",
              "      <td>상권업종중분류명</td>\n",
              "      <td>0</td>\n",
              "    </tr>\n",
              "    <tr>\n",
              "      <th>7</th>\n",
              "      <td>상권업종소분류코드</td>\n",
              "      <td>0</td>\n",
              "    </tr>\n",
              "    <tr>\n",
              "      <th>8</th>\n",
              "      <td>상권업종소분류명</td>\n",
              "      <td>0</td>\n",
              "    </tr>\n",
              "    <tr>\n",
              "      <th>9</th>\n",
              "      <td>표준산업분류코드</td>\n",
              "      <td>4922</td>\n",
              "    </tr>\n",
              "    <tr>\n",
              "      <th>10</th>\n",
              "      <td>표준산업분류명</td>\n",
              "      <td>4922</td>\n",
              "    </tr>\n",
              "    <tr>\n",
              "      <th>11</th>\n",
              "      <td>시도코드</td>\n",
              "      <td>379</td>\n",
              "    </tr>\n",
              "    <tr>\n",
              "      <th>12</th>\n",
              "      <td>시도명</td>\n",
              "      <td>379</td>\n",
              "    </tr>\n",
              "    <tr>\n",
              "      <th>13</th>\n",
              "      <td>시군구코드</td>\n",
              "      <td>379</td>\n",
              "    </tr>\n",
              "    <tr>\n",
              "      <th>14</th>\n",
              "      <td>시군구명</td>\n",
              "      <td>379</td>\n",
              "    </tr>\n",
              "    <tr>\n",
              "      <th>15</th>\n",
              "      <td>행정동코드</td>\n",
              "      <td>0</td>\n",
              "    </tr>\n",
              "    <tr>\n",
              "      <th>16</th>\n",
              "      <td>행정동명</td>\n",
              "      <td>379</td>\n",
              "    </tr>\n",
              "    <tr>\n",
              "      <th>17</th>\n",
              "      <td>법정동코드</td>\n",
              "      <td>55</td>\n",
              "    </tr>\n",
              "    <tr>\n",
              "      <th>18</th>\n",
              "      <td>법정동명</td>\n",
              "      <td>55</td>\n",
              "    </tr>\n",
              "    <tr>\n",
              "      <th>19</th>\n",
              "      <td>지번코드</td>\n",
              "      <td>0</td>\n",
              "    </tr>\n",
              "    <tr>\n",
              "      <th>20</th>\n",
              "      <td>대지구분코드</td>\n",
              "      <td>0</td>\n",
              "    </tr>\n",
              "    <tr>\n",
              "      <th>21</th>\n",
              "      <td>대지구분명</td>\n",
              "      <td>0</td>\n",
              "    </tr>\n",
              "    <tr>\n",
              "      <th>22</th>\n",
              "      <td>지번본번지</td>\n",
              "      <td>0</td>\n",
              "    </tr>\n",
              "    <tr>\n",
              "      <th>23</th>\n",
              "      <td>지번부번지</td>\n",
              "      <td>19256</td>\n",
              "    </tr>\n",
              "    <tr>\n",
              "      <th>24</th>\n",
              "      <td>지번주소</td>\n",
              "      <td>0</td>\n",
              "    </tr>\n",
              "    <tr>\n",
              "      <th>25</th>\n",
              "      <td>도로명코드</td>\n",
              "      <td>0</td>\n",
              "    </tr>\n",
              "    <tr>\n",
              "      <th>26</th>\n",
              "      <td>도로명</td>\n",
              "      <td>0</td>\n",
              "    </tr>\n",
              "    <tr>\n",
              "      <th>27</th>\n",
              "      <td>건물본번지</td>\n",
              "      <td>0</td>\n",
              "    </tr>\n",
              "    <tr>\n",
              "      <th>28</th>\n",
              "      <td>건물부번지</td>\n",
              "      <td>80731</td>\n",
              "    </tr>\n",
              "    <tr>\n",
              "      <th>29</th>\n",
              "      <td>건물관리번호</td>\n",
              "      <td>0</td>\n",
              "    </tr>\n",
              "    <tr>\n",
              "      <th>30</th>\n",
              "      <td>건물명</td>\n",
              "      <td>44882</td>\n",
              "    </tr>\n",
              "    <tr>\n",
              "      <th>31</th>\n",
              "      <td>도로명주소</td>\n",
              "      <td>0</td>\n",
              "    </tr>\n",
              "    <tr>\n",
              "      <th>32</th>\n",
              "      <td>구우편번호</td>\n",
              "      <td>12</td>\n",
              "    </tr>\n",
              "    <tr>\n",
              "      <th>33</th>\n",
              "      <td>신우편번호</td>\n",
              "      <td>2</td>\n",
              "    </tr>\n",
              "    <tr>\n",
              "      <th>34</th>\n",
              "      <td>동정보</td>\n",
              "      <td>83929</td>\n",
              "    </tr>\n",
              "    <tr>\n",
              "      <th>35</th>\n",
              "      <td>층정보</td>\n",
              "      <td>47291</td>\n",
              "    </tr>\n",
              "    <tr>\n",
              "      <th>36</th>\n",
              "      <td>호정보</td>\n",
              "      <td>75784</td>\n",
              "    </tr>\n",
              "    <tr>\n",
              "      <th>37</th>\n",
              "      <td>경도</td>\n",
              "      <td>0</td>\n",
              "    </tr>\n",
              "    <tr>\n",
              "      <th>38</th>\n",
              "      <td>위도</td>\n",
              "      <td>0</td>\n",
              "    </tr>\n",
              "  </tbody>\n",
              "</table>\n",
              "</div>"
            ],
            "text/plain": [
              "        index      0\n",
              "0      상가업소번호      0\n",
              "1         상호명      0\n",
              "2         지점명  89989\n",
              "3   상권업종대분류코드      0\n",
              "4    상권업종대분류명      0\n",
              "5   상권업종중분류코드      0\n",
              "6    상권업종중분류명      0\n",
              "7   상권업종소분류코드      0\n",
              "8    상권업종소분류명      0\n",
              "9    표준산업분류코드   4922\n",
              "10    표준산업분류명   4922\n",
              "11       시도코드    379\n",
              "12        시도명    379\n",
              "13      시군구코드    379\n",
              "14       시군구명    379\n",
              "15      행정동코드      0\n",
              "16       행정동명    379\n",
              "17      법정동코드     55\n",
              "18       법정동명     55\n",
              "19       지번코드      0\n",
              "20     대지구분코드      0\n",
              "21      대지구분명      0\n",
              "22      지번본번지      0\n",
              "23      지번부번지  19256\n",
              "24       지번주소      0\n",
              "25      도로명코드      0\n",
              "26        도로명      0\n",
              "27      건물본번지      0\n",
              "28      건물부번지  80731\n",
              "29     건물관리번호      0\n",
              "30        건물명  44882\n",
              "31      도로명주소      0\n",
              "32      구우편번호     12\n",
              "33      신우편번호      2\n",
              "34        동정보  83929\n",
              "35        층정보  47291\n",
              "36        호정보  75784\n",
              "37         경도      0\n",
              "38         위도      0"
            ]
          },
          "metadata": {
            "tags": []
          },
          "execution_count": 27
        }
      ]
    },
    {
      "cell_type": "code",
      "metadata": {
        "colab": {
          "base_uri": "https://localhost:8080/",
          "height": 79
        },
        "id": "AkLIMksKr4EJ",
        "outputId": "5ed217c5-e589-4bb5-bd09-53ac50a37423"
      },
      "source": [
        "# df_null_count 변수에 담겨있는 컬럼의 이름을 변경\n",
        "df_null_count.columns = ['컬럼명', '결측치수']\n",
        "df_null_count.head(1)"
      ],
      "execution_count": 28,
      "outputs": [
        {
          "output_type": "execute_result",
          "data": {
            "text/html": [
              "<div>\n",
              "<style scoped>\n",
              "    .dataframe tbody tr th:only-of-type {\n",
              "        vertical-align: middle;\n",
              "    }\n",
              "\n",
              "    .dataframe tbody tr th {\n",
              "        vertical-align: top;\n",
              "    }\n",
              "\n",
              "    .dataframe thead th {\n",
              "        text-align: right;\n",
              "    }\n",
              "</style>\n",
              "<table border=\"1\" class=\"dataframe\">\n",
              "  <thead>\n",
              "    <tr style=\"text-align: right;\">\n",
              "      <th></th>\n",
              "      <th>컬럼명</th>\n",
              "      <th>결측치수</th>\n",
              "    </tr>\n",
              "  </thead>\n",
              "  <tbody>\n",
              "    <tr>\n",
              "      <th>0</th>\n",
              "      <td>상가업소번호</td>\n",
              "      <td>0</td>\n",
              "    </tr>\n",
              "  </tbody>\n",
              "</table>\n",
              "</div>"
            ],
            "text/plain": [
              "      컬럼명  결측치수\n",
              "0  상가업소번호     0"
            ]
          },
          "metadata": {
            "tags": []
          },
          "execution_count": 28
        }
      ]
    },
    {
      "cell_type": "markdown",
      "metadata": {
        "id": "Sbkb48BCz8hi"
      },
      "source": [
        "####정렬하기"
      ]
    },
    {
      "cell_type": "code",
      "metadata": {
        "colab": {
          "base_uri": "https://localhost:8080/",
          "height": 355
        },
        "id": "xHWRba6zvbku",
        "outputId": "8ea931fd-1294-4b3e-90e6-e4549c4ae23e"
      },
      "source": [
        "#df_null_count 데이터프레임에 있는 결측치수 컬럼을 sort_values를 통해 정렬\n",
        "df_null_count_top =  df_null_count.sort_values(by='결측치수',ascending=False).head(10)\n",
        "df_null_count_top"
      ],
      "execution_count": 29,
      "outputs": [
        {
          "output_type": "execute_result",
          "data": {
            "text/html": [
              "<div>\n",
              "<style scoped>\n",
              "    .dataframe tbody tr th:only-of-type {\n",
              "        vertical-align: middle;\n",
              "    }\n",
              "\n",
              "    .dataframe tbody tr th {\n",
              "        vertical-align: top;\n",
              "    }\n",
              "\n",
              "    .dataframe thead th {\n",
              "        text-align: right;\n",
              "    }\n",
              "</style>\n",
              "<table border=\"1\" class=\"dataframe\">\n",
              "  <thead>\n",
              "    <tr style=\"text-align: right;\">\n",
              "      <th></th>\n",
              "      <th>컬럼명</th>\n",
              "      <th>결측치수</th>\n",
              "    </tr>\n",
              "  </thead>\n",
              "  <tbody>\n",
              "    <tr>\n",
              "      <th>2</th>\n",
              "      <td>지점명</td>\n",
              "      <td>89989</td>\n",
              "    </tr>\n",
              "    <tr>\n",
              "      <th>34</th>\n",
              "      <td>동정보</td>\n",
              "      <td>83929</td>\n",
              "    </tr>\n",
              "    <tr>\n",
              "      <th>28</th>\n",
              "      <td>건물부번지</td>\n",
              "      <td>80731</td>\n",
              "    </tr>\n",
              "    <tr>\n",
              "      <th>36</th>\n",
              "      <td>호정보</td>\n",
              "      <td>75784</td>\n",
              "    </tr>\n",
              "    <tr>\n",
              "      <th>35</th>\n",
              "      <td>층정보</td>\n",
              "      <td>47291</td>\n",
              "    </tr>\n",
              "    <tr>\n",
              "      <th>30</th>\n",
              "      <td>건물명</td>\n",
              "      <td>44882</td>\n",
              "    </tr>\n",
              "    <tr>\n",
              "      <th>23</th>\n",
              "      <td>지번부번지</td>\n",
              "      <td>19256</td>\n",
              "    </tr>\n",
              "    <tr>\n",
              "      <th>9</th>\n",
              "      <td>표준산업분류코드</td>\n",
              "      <td>4922</td>\n",
              "    </tr>\n",
              "    <tr>\n",
              "      <th>10</th>\n",
              "      <td>표준산업분류명</td>\n",
              "      <td>4922</td>\n",
              "    </tr>\n",
              "    <tr>\n",
              "      <th>11</th>\n",
              "      <td>시도코드</td>\n",
              "      <td>379</td>\n",
              "    </tr>\n",
              "  </tbody>\n",
              "</table>\n",
              "</div>"
            ],
            "text/plain": [
              "         컬럼명   결측치수\n",
              "2        지점명  89989\n",
              "34       동정보  83929\n",
              "28     건물부번지  80731\n",
              "36       호정보  75784\n",
              "35       층정보  47291\n",
              "30       건물명  44882\n",
              "23     지번부번지  19256\n",
              "9   표준산업분류코드   4922\n",
              "10   표준산업분류명   4922\n",
              "11      시도코드    379"
            ]
          },
          "metadata": {
            "tags": []
          },
          "execution_count": 29
        }
      ]
    },
    {
      "cell_type": "markdown",
      "metadata": {
        "id": "BHBLLSto08vK"
      },
      "source": [
        "####특정 컬럼만 불러오기"
      ]
    },
    {
      "cell_type": "code",
      "metadata": {
        "colab": {
          "base_uri": "https://localhost:8080/"
        },
        "id": "K_ma8-1T0IZ2",
        "outputId": "994c3ffa-171d-4cd9-fe8b-b5af2da98931"
      },
      "source": [
        "#Nan == Not a Number의 약자로 결측치를 의미\n",
        "df['지점명']"
      ],
      "execution_count": 30,
      "outputs": [
        {
          "output_type": "execute_result",
          "data": {
            "text/plain": [
              "0         NaN\n",
              "1         NaN\n",
              "2         NaN\n",
              "3         NaN\n",
              "4         수지점\n",
              "         ... \n",
              "91330     베스트\n",
              "91331    봄산후조\n",
              "91332     NaN\n",
              "91333     NaN\n",
              "91334     NaN\n",
              "Name: 지점명, Length: 91335, dtype: object"
            ]
          },
          "metadata": {
            "tags": []
          },
          "execution_count": 30
        }
      ]
    },
    {
      "cell_type": "code",
      "metadata": {
        "colab": {
          "base_uri": "https://localhost:8080/"
        },
        "id": "EVxupuA61AYj",
        "outputId": "c24b40a1-bfaf-42b8-d0d7-9c63c96996d9"
      },
      "source": [
        "#컬럼명 이라는 컬럼의 값만 가져와서 drop_columns라는 변수에 담기\n",
        "drop_columns = df_null_count_top['컬럼명'].tolist()\n",
        "drop_columns"
      ],
      "execution_count": 31,
      "outputs": [
        {
          "output_type": "execute_result",
          "data": {
            "text/plain": [
              "['지점명',\n",
              " '동정보',\n",
              " '건물부번지',\n",
              " '호정보',\n",
              " '층정보',\n",
              " '건물명',\n",
              " '지번부번지',\n",
              " '표준산업분류코드',\n",
              " '표준산업분류명',\n",
              " '시도코드']"
            ]
          },
          "metadata": {
            "tags": []
          },
          "execution_count": 31
        }
      ]
    },
    {
      "cell_type": "code",
      "metadata": {
        "colab": {
          "base_uri": "https://localhost:8080/",
          "height": 415
        },
        "id": "-7UVRGKQ1kF6",
        "outputId": "3b353014-b352-4a92-ea61-7aeeede4fef7"
      },
      "source": [
        "df[drop_columns]"
      ],
      "execution_count": 32,
      "outputs": [
        {
          "output_type": "execute_result",
          "data": {
            "text/html": [
              "<div>\n",
              "<style scoped>\n",
              "    .dataframe tbody tr th:only-of-type {\n",
              "        vertical-align: middle;\n",
              "    }\n",
              "\n",
              "    .dataframe tbody tr th {\n",
              "        vertical-align: top;\n",
              "    }\n",
              "\n",
              "    .dataframe thead th {\n",
              "        text-align: right;\n",
              "    }\n",
              "</style>\n",
              "<table border=\"1\" class=\"dataframe\">\n",
              "  <thead>\n",
              "    <tr style=\"text-align: right;\">\n",
              "      <th></th>\n",
              "      <th>지점명</th>\n",
              "      <th>동정보</th>\n",
              "      <th>건물부번지</th>\n",
              "      <th>호정보</th>\n",
              "      <th>층정보</th>\n",
              "      <th>건물명</th>\n",
              "      <th>지번부번지</th>\n",
              "      <th>표준산업분류코드</th>\n",
              "      <th>표준산업분류명</th>\n",
              "      <th>시도코드</th>\n",
              "    </tr>\n",
              "  </thead>\n",
              "  <tbody>\n",
              "    <tr>\n",
              "      <th>0</th>\n",
              "      <td>NaN</td>\n",
              "      <td>NaN</td>\n",
              "      <td>NaN</td>\n",
              "      <td>NaN</td>\n",
              "      <td>NaN</td>\n",
              "      <td>산호한양아파트</td>\n",
              "      <td>NaN</td>\n",
              "      <td>Q86201</td>\n",
              "      <td>일반 의원</td>\n",
              "      <td>41.0</td>\n",
              "    </tr>\n",
              "    <tr>\n",
              "      <th>1</th>\n",
              "      <td>NaN</td>\n",
              "      <td>NaN</td>\n",
              "      <td>NaN</td>\n",
              "      <td>NaN</td>\n",
              "      <td>4</td>\n",
              "      <td>NaN</td>\n",
              "      <td>14.0</td>\n",
              "      <td>Q86201</td>\n",
              "      <td>일반 의원</td>\n",
              "      <td>11.0</td>\n",
              "    </tr>\n",
              "    <tr>\n",
              "      <th>2</th>\n",
              "      <td>NaN</td>\n",
              "      <td>NaN</td>\n",
              "      <td>NaN</td>\n",
              "      <td>NaN</td>\n",
              "      <td>NaN</td>\n",
              "      <td>한라프라자</td>\n",
              "      <td>1.0</td>\n",
              "      <td>Q86201</td>\n",
              "      <td>일반 의원</td>\n",
              "      <td>41.0</td>\n",
              "    </tr>\n",
              "    <tr>\n",
              "      <th>3</th>\n",
              "      <td>NaN</td>\n",
              "      <td>NaN</td>\n",
              "      <td>NaN</td>\n",
              "      <td>NaN</td>\n",
              "      <td>5</td>\n",
              "      <td>NaN</td>\n",
              "      <td>1.0</td>\n",
              "      <td>NaN</td>\n",
              "      <td>NaN</td>\n",
              "      <td>26.0</td>\n",
              "    </tr>\n",
              "    <tr>\n",
              "      <th>4</th>\n",
              "      <td>수지점</td>\n",
              "      <td>NaN</td>\n",
              "      <td>NaN</td>\n",
              "      <td>NaN</td>\n",
              "      <td>1</td>\n",
              "      <td>NaN</td>\n",
              "      <td>2.0</td>\n",
              "      <td>G47811</td>\n",
              "      <td>의약품 및 의료용품 소매업</td>\n",
              "      <td>41.0</td>\n",
              "    </tr>\n",
              "    <tr>\n",
              "      <th>...</th>\n",
              "      <td>...</td>\n",
              "      <td>...</td>\n",
              "      <td>...</td>\n",
              "      <td>...</td>\n",
              "      <td>...</td>\n",
              "      <td>...</td>\n",
              "      <td>...</td>\n",
              "      <td>...</td>\n",
              "      <td>...</td>\n",
              "      <td>...</td>\n",
              "    </tr>\n",
              "    <tr>\n",
              "      <th>91330</th>\n",
              "      <td>베스트</td>\n",
              "      <td>NaN</td>\n",
              "      <td>NaN</td>\n",
              "      <td>NaN</td>\n",
              "      <td>NaN</td>\n",
              "      <td>NaN</td>\n",
              "      <td>NaN</td>\n",
              "      <td>G47811</td>\n",
              "      <td>의약품 및 의료용품 소매업</td>\n",
              "      <td>30.0</td>\n",
              "    </tr>\n",
              "    <tr>\n",
              "      <th>91331</th>\n",
              "      <td>봄산후조</td>\n",
              "      <td>NaN</td>\n",
              "      <td>NaN</td>\n",
              "      <td>NaN</td>\n",
              "      <td>NaN</td>\n",
              "      <td>청한프라자</td>\n",
              "      <td>NaN</td>\n",
              "      <td>S96993</td>\n",
              "      <td>개인 간병인 및 유사 서비스업</td>\n",
              "      <td>41.0</td>\n",
              "    </tr>\n",
              "    <tr>\n",
              "      <th>91332</th>\n",
              "      <td>NaN</td>\n",
              "      <td>NaN</td>\n",
              "      <td>NaN</td>\n",
              "      <td>NaN</td>\n",
              "      <td>2</td>\n",
              "      <td>한신시티빌</td>\n",
              "      <td>1.0</td>\n",
              "      <td>Q86102</td>\n",
              "      <td>일반 병원</td>\n",
              "      <td>26.0</td>\n",
              "    </tr>\n",
              "    <tr>\n",
              "      <th>91333</th>\n",
              "      <td>NaN</td>\n",
              "      <td>NaN</td>\n",
              "      <td>NaN</td>\n",
              "      <td>NaN</td>\n",
              "      <td>NaN</td>\n",
              "      <td>NaN</td>\n",
              "      <td>9.0</td>\n",
              "      <td>Q86203</td>\n",
              "      <td>한의원</td>\n",
              "      <td>11.0</td>\n",
              "    </tr>\n",
              "    <tr>\n",
              "      <th>91334</th>\n",
              "      <td>NaN</td>\n",
              "      <td>NaN</td>\n",
              "      <td>NaN</td>\n",
              "      <td>NaN</td>\n",
              "      <td>NaN</td>\n",
              "      <td>김안과</td>\n",
              "      <td>17.0</td>\n",
              "      <td>Q86201</td>\n",
              "      <td>일반 의원</td>\n",
              "      <td>44.0</td>\n",
              "    </tr>\n",
              "  </tbody>\n",
              "</table>\n",
              "<p>91335 rows × 10 columns</p>\n",
              "</div>"
            ],
            "text/plain": [
              "        지점명  동정보  건물부번지  호정보  ... 지번부번지 표준산업분류코드           표준산업분류명  시도코드\n",
              "0       NaN  NaN    NaN  NaN  ...   NaN   Q86201             일반 의원  41.0\n",
              "1       NaN  NaN    NaN  NaN  ...  14.0   Q86201             일반 의원  11.0\n",
              "2       NaN  NaN    NaN  NaN  ...   1.0   Q86201             일반 의원  41.0\n",
              "3       NaN  NaN    NaN  NaN  ...   1.0      NaN               NaN  26.0\n",
              "4       수지점  NaN    NaN  NaN  ...   2.0   G47811    의약품 및 의료용품 소매업  41.0\n",
              "...     ...  ...    ...  ...  ...   ...      ...               ...   ...\n",
              "91330   베스트  NaN    NaN  NaN  ...   NaN   G47811    의약품 및 의료용품 소매업  30.0\n",
              "91331  봄산후조  NaN    NaN  NaN  ...   NaN   S96993  개인 간병인 및 유사 서비스업  41.0\n",
              "91332   NaN  NaN    NaN  NaN  ...   1.0   Q86102             일반 병원  26.0\n",
              "91333   NaN  NaN    NaN  NaN  ...   9.0   Q86203               한의원  11.0\n",
              "91334   NaN  NaN    NaN  NaN  ...  17.0   Q86201             일반 의원  44.0\n",
              "\n",
              "[91335 rows x 10 columns]"
            ]
          },
          "metadata": {
            "tags": []
          },
          "execution_count": 32
        }
      ]
    },
    {
      "cell_type": "markdown",
      "metadata": {
        "id": "oViUKaYn1_be"
      },
      "source": [
        "####제거하기"
      ]
    },
    {
      "cell_type": "code",
      "metadata": {
        "colab": {
          "base_uri": "https://localhost:8080/"
        },
        "id": "m4LGxA3u1vrZ",
        "outputId": "d2c88ea2-e282-4759-ef7d-b21e09a20a1a"
      },
      "source": [
        "print(df.shape)\n",
        "df = df.drop(columns=drop_columns, axis=1)\n",
        "print(df.shape)"
      ],
      "execution_count": 33,
      "outputs": [
        {
          "output_type": "stream",
          "text": [
            "(91335, 39)\n",
            "(91335, 29)\n"
          ],
          "name": "stdout"
        }
      ]
    },
    {
      "cell_type": "code",
      "metadata": {
        "colab": {
          "base_uri": "https://localhost:8080/"
        },
        "id": "pC3vkh9e2Zre",
        "outputId": "b2eac373-84f2-4728-f1ab-2b3e4688fec4"
      },
      "source": [
        "df.info()"
      ],
      "execution_count": 34,
      "outputs": [
        {
          "output_type": "stream",
          "text": [
            "<class 'pandas.core.frame.DataFrame'>\n",
            "RangeIndex: 91335 entries, 0 to 91334\n",
            "Data columns (total 29 columns):\n",
            " #   Column     Non-Null Count  Dtype  \n",
            "---  ------     --------------  -----  \n",
            " 0   상가업소번호     91335 non-null  int64  \n",
            " 1   상호명        91335 non-null  object \n",
            " 2   상권업종대분류코드  91335 non-null  object \n",
            " 3   상권업종대분류명   91335 non-null  object \n",
            " 4   상권업종중분류코드  91335 non-null  object \n",
            " 5   상권업종중분류명   91335 non-null  object \n",
            " 6   상권업종소분류코드  91335 non-null  object \n",
            " 7   상권업종소분류명   91335 non-null  object \n",
            " 8   시도명        90956 non-null  object \n",
            " 9   시군구코드      90956 non-null  float64\n",
            " 10  시군구명       90956 non-null  object \n",
            " 11  행정동코드      91335 non-null  int64  \n",
            " 12  행정동명       90956 non-null  object \n",
            " 13  법정동코드      91280 non-null  float64\n",
            " 14  법정동명       91280 non-null  object \n",
            " 15  지번코드       91335 non-null  int64  \n",
            " 16  대지구분코드     91335 non-null  int64  \n",
            " 17  대지구분명      91335 non-null  object \n",
            " 18  지번본번지      91335 non-null  int64  \n",
            " 19  지번주소       91335 non-null  object \n",
            " 20  도로명코드      91335 non-null  int64  \n",
            " 21  도로명        91335 non-null  object \n",
            " 22  건물본번지      91335 non-null  int64  \n",
            " 23  건물관리번호     91335 non-null  object \n",
            " 24  도로명주소      91335 non-null  object \n",
            " 25  구우편번호      91323 non-null  float64\n",
            " 26  신우편번호      91333 non-null  float64\n",
            " 27  경도         91335 non-null  float64\n",
            " 28  위도         91335 non-null  float64\n",
            "dtypes: float64(6), int64(7), object(16)\n",
            "memory usage: 20.2+ MB\n"
          ],
          "name": "stdout"
        }
      ]
    },
    {
      "cell_type": "code",
      "metadata": {
        "id": "VpU-15FH2tsG"
      },
      "source": [
        ""
      ],
      "execution_count": null,
      "outputs": []
    },
    {
      "cell_type": "markdown",
      "metadata": {
        "id": "KIBPluYSJnfU"
      },
      "source": [
        ""
      ]
    }
  ]
}